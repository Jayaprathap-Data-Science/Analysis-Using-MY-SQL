{
 "cells": [
  {
   "cell_type": "code",
   "execution_count": 1,
   "id": "0e84c7d1",
   "metadata": {
    "_cell_guid": "b1076dfc-b9ad-4769-8c92-a6c4dae69d19",
    "_uuid": "8f2839f25d086af736a60e9eeb907d3b93b6e0e5",
    "execution": {
     "iopub.execute_input": "2025-07-18T14:11:58.615148Z",
     "iopub.status.busy": "2025-07-18T14:11:58.614402Z",
     "iopub.status.idle": "2025-07-18T14:12:00.784194Z",
     "shell.execute_reply": "2025-07-18T14:12:00.783015Z"
    },
    "papermill": {
     "duration": 2.181528,
     "end_time": "2025-07-18T14:12:00.786478",
     "exception": false,
     "start_time": "2025-07-18T14:11:58.604950",
     "status": "completed"
    },
    "tags": []
   },
   "outputs": [
    {
     "name": "stdout",
     "output_type": "stream",
     "text": [
      "/kaggle/input/hospital-management-dataset/appointments.csv\n",
      "/kaggle/input/hospital-management-dataset/billing.csv\n",
      "/kaggle/input/hospital-management-dataset/patients.csv\n",
      "/kaggle/input/hospital-management-dataset/doctors.csv\n",
      "/kaggle/input/hospital-management-dataset/treatments.csv\n"
     ]
    }
   ],
   "source": [
    "# This Python 3 environment comes with many helpful analytics libraries installed\n",
    "# It is defined by the kaggle/python Docker image: https://github.com/kaggle/docker-python\n",
    "# For example, here's several helpful packages to load\n",
    "\n",
    "import numpy as np # linear algebra\n",
    "import pandas as pd # data processing, CSV file I/O (e.g. pd.read_csv)\n",
    "\n",
    "# Input data files are available in the read-only \"../input/\" directory\n",
    "# For example, running this (by clicking run or pressing Shift+Enter) will list all files under the input directory\n",
    "\n",
    "import os\n",
    "for dirname, _, filenames in os.walk('/kaggle/input'):\n",
    "    for filename in filenames:\n",
    "        print(os.path.join(dirname, filename))\n",
    "\n",
    "# You can write up to 20GB to the current directory (/kaggle/working/) that gets preserved as output when you create a version using \"Save & Run All\" \n",
    "# You can also write temporary files to /kaggle/temp/, but they won't be saved outside of the current session"
   ]
  },
  {
   "cell_type": "markdown",
   "id": "a8505882",
   "metadata": {
    "papermill": {
     "duration": 0.010057,
     "end_time": "2025-07-18T14:12:00.806805",
     "exception": false,
     "start_time": "2025-07-18T14:12:00.796748",
     "status": "completed"
    },
    "tags": []
   },
   "source": [
    "# Import Libaries"
   ]
  },
  {
   "cell_type": "code",
   "execution_count": 2,
   "id": "bc714116",
   "metadata": {
    "execution": {
     "iopub.execute_input": "2025-07-18T14:12:00.829550Z",
     "iopub.status.busy": "2025-07-18T14:12:00.828564Z",
     "iopub.status.idle": "2025-07-18T14:12:03.080068Z",
     "shell.execute_reply": "2025-07-18T14:12:03.079307Z"
    },
    "papermill": {
     "duration": 2.267135,
     "end_time": "2025-07-18T14:12:03.081742",
     "exception": false,
     "start_time": "2025-07-18T14:12:00.814607",
     "status": "completed"
    },
    "tags": []
   },
   "outputs": [],
   "source": [
    "import pandas as pd\n",
    "import numpy as np\n",
    "import seaborn as sns\n",
    "import matplotlib.pyplot as plt\n",
    "import warnings"
   ]
  },
  {
   "cell_type": "markdown",
   "id": "4c33997b",
   "metadata": {
    "papermill": {
     "duration": 0.006729,
     "end_time": "2025-07-18T14:12:03.096516",
     "exception": false,
     "start_time": "2025-07-18T14:12:03.089787",
     "status": "completed"
    },
    "tags": []
   },
   "source": [
    "# Loading Data"
   ]
  },
  {
   "cell_type": "code",
   "execution_count": 3,
   "id": "46e014c1",
   "metadata": {
    "execution": {
     "iopub.execute_input": "2025-07-18T14:12:03.111687Z",
     "iopub.status.busy": "2025-07-18T14:12:03.111284Z",
     "iopub.status.idle": "2025-07-18T14:12:03.172796Z",
     "shell.execute_reply": "2025-07-18T14:12:03.171781Z"
    },
    "papermill": {
     "duration": 0.071107,
     "end_time": "2025-07-18T14:12:03.174499",
     "exception": false,
     "start_time": "2025-07-18T14:12:03.103392",
     "status": "completed"
    },
    "tags": []
   },
   "outputs": [
    {
     "name": "stdout",
     "output_type": "stream",
     "text": [
      "  appointment_id patient_id doctor_id appointment_date appointment_time  \\\n",
      "0           A001       P034      D009       2023-08-09         15:15:00   \n",
      "1           A002       P032      D004       2023-06-09         14:30:00   \n",
      "2           A003       P048      D004       2023-06-28          8:00:00   \n",
      "3           A004       P025      D006       2023-09-01          9:15:00   \n",
      "4           A005       P040      D003       2023-07-06         12:45:00   \n",
      "\n",
      "  reason_for_visit     status  \n",
      "0          Therapy  Scheduled  \n",
      "1          Therapy    No-show  \n",
      "2     Consultation  Cancelled  \n",
      "3     Consultation  Cancelled  \n",
      "4        Emergency    No-show  \n",
      "  bill_id patient_id treatment_id   bill_date   amount payment_method  \\\n",
      "0    B001       P034         T001  2023-08-09  3941.97      Insurance   \n",
      "1    B002       P032         T002  2023-06-09  4158.44      Insurance   \n",
      "2    B003       P048         T003  2023-06-28  3731.55      Insurance   \n",
      "3    B004       P025         T004  2023-09-01  4799.86      Insurance   \n",
      "4    B005       P040         T005  2023-07-06   582.05    Credit Card   \n",
      "\n",
      "  payment_status  \n",
      "0        Pending  \n",
      "1           Paid  \n",
      "2           Paid  \n",
      "3         Failed  \n",
      "4        Pending  \n",
      "  doctor_id first_name last_name specialization  phone_number  \\\n",
      "0      D001      David    Taylor    Dermatology    8322010158   \n",
      "1      D002       Jane     Davis     Pediatrics    9004382050   \n",
      "2      D003       Jane     Smith     Pediatrics    8737740598   \n",
      "3      D004      David     Jones     Pediatrics    6594221991   \n",
      "4      D005      Sarah    Taylor    Dermatology    9118538547   \n",
      "\n",
      "   years_experience   hospital_branch                         email  \n",
      "0                17   Westside Clinic  dr.david.taylor@hospital.com  \n",
      "1                24   Eastside Clinic    dr.jane.davis@hospital.com  \n",
      "2                19   Eastside Clinic    dr.jane.smith@hospital.com  \n",
      "3                28  Central Hospital   dr.david.jones@hospital.com  \n",
      "4                26  Central Hospital  dr.sarah.taylor@hospital.com  \n",
      "  patient_id first_name last_name gender date_of_birth  contact_number  \\\n",
      "0       P001      David  Williams      F    1955-06-04      6939585183   \n",
      "1       P002      Emily     Smith      F    1984-10-12      8228188767   \n",
      "2       P003      Laura     Jones      M    1977-08-21      8397029847   \n",
      "3       P004    Michael   Johnson      F    1981-02-20      9019443432   \n",
      "4       P005      David    Wilson      M    1960-06-23      7734463155   \n",
      "\n",
      "        address registration_date insurance_provider insurance_number  \\\n",
      "0   789 Pine Rd        2022-06-23       WellnessCorp        INS840674   \n",
      "1  321 Maple Dr        2022-01-15        PulseSecure        INS354079   \n",
      "2  321 Maple Dr        2022-02-07        PulseSecure        INS650929   \n",
      "3    123 Elm St        2021-03-02        HealthIndia        INS789944   \n",
      "4    123 Elm St        2021-09-29       MedCare Plus        INS788105   \n",
      "\n",
      "                      email  \n",
      "0   david.williams@mail.com  \n",
      "1      emily.smith@mail.com  \n",
      "2      laura.jones@mail.com  \n",
      "3  michael.johnson@mail.com  \n",
      "4     david.wilson@mail.com  \n",
      "  treatment_id appointment_id treatment_type         description     cost  \\\n",
      "0         T001           A001   Chemotherapy     Basic screening  3941.97   \n",
      "1         T002           A002            MRI   Advanced protocol  4158.44   \n",
      "2         T003           A003            MRI  Standard procedure  3731.55   \n",
      "3         T004           A004            MRI     Basic screening  4799.86   \n",
      "4         T005           A005            ECG  Standard procedure   582.05   \n",
      "\n",
      "  treatment_date  \n",
      "0     2023-08-09  \n",
      "1     2023-06-09  \n",
      "2     2023-06-28  \n",
      "3     2023-09-01  \n",
      "4     2023-07-06  \n"
     ]
    }
   ],
   "source": [
    "appointments=pd.read_csv(r\"/kaggle/input/hospital-management-dataset/appointments.csv\")\n",
    "billing=pd.read_csv(r\"/kaggle/input/hospital-management-dataset/billing.csv\")\n",
    "doctors=pd.read_csv(r\"/kaggle/input/hospital-management-dataset/doctors.csv\")\n",
    "patients=pd.read_csv(r\"/kaggle/input/hospital-management-dataset/patients.csv\")\n",
    "treatments=pd.read_csv(r\"/kaggle/input/hospital-management-dataset/treatments.csv\")\n",
    "print(appointments.head(5))\n",
    "print(billing.head(5))\n",
    "print(doctors.head(5))\n",
    "print(patients.head(5))\n",
    "print(treatments.head(5))"
   ]
  },
  {
   "cell_type": "code",
   "execution_count": 4,
   "id": "dcbf8424",
   "metadata": {
    "execution": {
     "iopub.execute_input": "2025-07-18T14:12:03.191380Z",
     "iopub.status.busy": "2025-07-18T14:12:03.190692Z",
     "iopub.status.idle": "2025-07-18T14:12:03.233555Z",
     "shell.execute_reply": "2025-07-18T14:12:03.232534Z"
    },
    "papermill": {
     "duration": 0.052704,
     "end_time": "2025-07-18T14:12:03.234862",
     "exception": false,
     "start_time": "2025-07-18T14:12:03.182158",
     "status": "completed"
    },
    "tags": []
   },
   "outputs": [
    {
     "name": "stdout",
     "output_type": "stream",
     "text": [
      "<class 'pandas.core.frame.DataFrame'>\n",
      "RangeIndex: 200 entries, 0 to 199\n",
      "Data columns (total 7 columns):\n",
      " #   Column            Non-Null Count  Dtype \n",
      "---  ------            --------------  ----- \n",
      " 0   appointment_id    200 non-null    object\n",
      " 1   patient_id        200 non-null    object\n",
      " 2   doctor_id         200 non-null    object\n",
      " 3   appointment_date  200 non-null    object\n",
      " 4   appointment_time  200 non-null    object\n",
      " 5   reason_for_visit  200 non-null    object\n",
      " 6   status            200 non-null    object\n",
      "dtypes: object(7)\n",
      "memory usage: 11.1+ KB\n",
      "<class 'pandas.core.frame.DataFrame'>\n",
      "RangeIndex: 200 entries, 0 to 199\n",
      "Data columns (total 7 columns):\n",
      " #   Column          Non-Null Count  Dtype  \n",
      "---  ------          --------------  -----  \n",
      " 0   bill_id         200 non-null    object \n",
      " 1   patient_id      200 non-null    object \n",
      " 2   treatment_id    200 non-null    object \n",
      " 3   bill_date       200 non-null    object \n",
      " 4   amount          200 non-null    float64\n",
      " 5   payment_method  200 non-null    object \n",
      " 6   payment_status  200 non-null    object \n",
      "dtypes: float64(1), object(6)\n",
      "memory usage: 11.1+ KB\n",
      "<class 'pandas.core.frame.DataFrame'>\n",
      "RangeIndex: 10 entries, 0 to 9\n",
      "Data columns (total 8 columns):\n",
      " #   Column            Non-Null Count  Dtype \n",
      "---  ------            --------------  ----- \n",
      " 0   doctor_id         10 non-null     object\n",
      " 1   first_name        10 non-null     object\n",
      " 2   last_name         10 non-null     object\n",
      " 3   specialization    10 non-null     object\n",
      " 4   phone_number      10 non-null     int64 \n",
      " 5   years_experience  10 non-null     int64 \n",
      " 6   hospital_branch   10 non-null     object\n",
      " 7   email             10 non-null     object\n",
      "dtypes: int64(2), object(6)\n",
      "memory usage: 772.0+ bytes\n",
      "<class 'pandas.core.frame.DataFrame'>\n",
      "RangeIndex: 50 entries, 0 to 49\n",
      "Data columns (total 11 columns):\n",
      " #   Column              Non-Null Count  Dtype \n",
      "---  ------              --------------  ----- \n",
      " 0   patient_id          50 non-null     object\n",
      " 1   first_name          50 non-null     object\n",
      " 2   last_name           50 non-null     object\n",
      " 3   gender              50 non-null     object\n",
      " 4   date_of_birth       50 non-null     object\n",
      " 5   contact_number      50 non-null     int64 \n",
      " 6   address             50 non-null     object\n",
      " 7   registration_date   50 non-null     object\n",
      " 8   insurance_provider  50 non-null     object\n",
      " 9   insurance_number    50 non-null     object\n",
      " 10  email               50 non-null     object\n",
      "dtypes: int64(1), object(10)\n",
      "memory usage: 4.4+ KB\n",
      "<class 'pandas.core.frame.DataFrame'>\n",
      "RangeIndex: 200 entries, 0 to 199\n",
      "Data columns (total 6 columns):\n",
      " #   Column          Non-Null Count  Dtype  \n",
      "---  ------          --------------  -----  \n",
      " 0   treatment_id    200 non-null    object \n",
      " 1   appointment_id  200 non-null    object \n",
      " 2   treatment_type  200 non-null    object \n",
      " 3   description     200 non-null    object \n",
      " 4   cost            200 non-null    float64\n",
      " 5   treatment_date  200 non-null    object \n",
      "dtypes: float64(1), object(5)\n",
      "memory usage: 9.5+ KB\n"
     ]
    }
   ],
   "source": [
    "appointments.info()\n",
    "billing.info()\n",
    "doctors.info()\n",
    "patients.info()\n",
    "treatments.info()"
   ]
  },
  {
   "cell_type": "code",
   "execution_count": 5,
   "id": "d011670d",
   "metadata": {
    "execution": {
     "iopub.execute_input": "2025-07-18T14:12:03.251062Z",
     "iopub.status.busy": "2025-07-18T14:12:03.250747Z",
     "iopub.status.idle": "2025-07-18T14:12:03.288148Z",
     "shell.execute_reply": "2025-07-18T14:12:03.287314Z"
    },
    "papermill": {
     "duration": 0.047501,
     "end_time": "2025-07-18T14:12:03.289752",
     "exception": false,
     "start_time": "2025-07-18T14:12:03.242251",
     "status": "completed"
    },
    "tags": []
   },
   "outputs": [
    {
     "data": {
      "text/html": [
       "<div>\n",
       "<style scoped>\n",
       "    .dataframe tbody tr th:only-of-type {\n",
       "        vertical-align: middle;\n",
       "    }\n",
       "\n",
       "    .dataframe tbody tr th {\n",
       "        vertical-align: top;\n",
       "    }\n",
       "\n",
       "    .dataframe thead th {\n",
       "        text-align: right;\n",
       "    }\n",
       "</style>\n",
       "<table border=\"1\" class=\"dataframe\">\n",
       "  <thead>\n",
       "    <tr style=\"text-align: right;\">\n",
       "      <th></th>\n",
       "      <th>cost</th>\n",
       "    </tr>\n",
       "  </thead>\n",
       "  <tbody>\n",
       "    <tr>\n",
       "      <th>count</th>\n",
       "      <td>200.000000</td>\n",
       "    </tr>\n",
       "    <tr>\n",
       "      <th>mean</th>\n",
       "      <td>2756.249250</td>\n",
       "    </tr>\n",
       "    <tr>\n",
       "      <th>std</th>\n",
       "      <td>1298.125308</td>\n",
       "    </tr>\n",
       "    <tr>\n",
       "      <th>min</th>\n",
       "      <td>534.030000</td>\n",
       "    </tr>\n",
       "    <tr>\n",
       "      <th>25%</th>\n",
       "      <td>1563.412500</td>\n",
       "    </tr>\n",
       "    <tr>\n",
       "      <th>50%</th>\n",
       "      <td>2828.165000</td>\n",
       "    </tr>\n",
       "    <tr>\n",
       "      <th>75%</th>\n",
       "      <td>3836.627500</td>\n",
       "    </tr>\n",
       "    <tr>\n",
       "      <th>max</th>\n",
       "      <td>4973.630000</td>\n",
       "    </tr>\n",
       "  </tbody>\n",
       "</table>\n",
       "</div>"
      ],
      "text/plain": [
       "              cost\n",
       "count   200.000000\n",
       "mean   2756.249250\n",
       "std    1298.125308\n",
       "min     534.030000\n",
       "25%    1563.412500\n",
       "50%    2828.165000\n",
       "75%    3836.627500\n",
       "max    4973.630000"
      ]
     },
     "execution_count": 5,
     "metadata": {},
     "output_type": "execute_result"
    }
   ],
   "source": [
    "appointments.describe()\n",
    "billing.describe()\n",
    "doctors.describe()\n",
    "patients.describe()\n",
    "treatments.describe()\n"
   ]
  },
  {
   "cell_type": "code",
   "execution_count": 6,
   "id": "70f6a2f4",
   "metadata": {
    "execution": {
     "iopub.execute_input": "2025-07-18T14:12:03.306956Z",
     "iopub.status.busy": "2025-07-18T14:12:03.306111Z",
     "iopub.status.idle": "2025-07-18T14:12:03.316973Z",
     "shell.execute_reply": "2025-07-18T14:12:03.316035Z"
    },
    "papermill": {
     "duration": 0.020894,
     "end_time": "2025-07-18T14:12:03.318414",
     "exception": false,
     "start_time": "2025-07-18T14:12:03.297520",
     "status": "completed"
    },
    "tags": []
   },
   "outputs": [
    {
     "name": "stdout",
     "output_type": "stream",
     "text": [
      "appointment_id      0\n",
      "patient_id          0\n",
      "doctor_id           0\n",
      "appointment_date    0\n",
      "appointment_time    0\n",
      "reason_for_visit    0\n",
      "status              0\n",
      "dtype: int64\n",
      "patient_id            0\n",
      "first_name            0\n",
      "last_name             0\n",
      "gender                0\n",
      "date_of_birth         0\n",
      "contact_number        0\n",
      "address               0\n",
      "registration_date     0\n",
      "insurance_provider    0\n",
      "insurance_number      0\n",
      "email                 0\n",
      "dtype: int64\n",
      "bill_id           0\n",
      "patient_id        0\n",
      "treatment_id      0\n",
      "bill_date         0\n",
      "amount            0\n",
      "payment_method    0\n",
      "payment_status    0\n",
      "dtype: int64\n",
      "doctor_id           0\n",
      "first_name          0\n",
      "last_name           0\n",
      "specialization      0\n",
      "phone_number        0\n",
      "years_experience    0\n",
      "hospital_branch     0\n",
      "email               0\n",
      "dtype: int64\n",
      "treatment_id      0\n",
      "appointment_id    0\n",
      "treatment_type    0\n",
      "description       0\n",
      "cost              0\n",
      "treatment_date    0\n",
      "dtype: int64\n"
     ]
    }
   ],
   "source": [
    "print(appointments.isnull().sum())\n",
    "print(patients.isnull().sum())\n",
    "print(billing.isnull().sum())\n",
    "print(doctors.isnull().sum())\n",
    "print(treatments.isnull().sum())"
   ]
  },
  {
   "cell_type": "code",
   "execution_count": 7,
   "id": "b602fd99",
   "metadata": {
    "execution": {
     "iopub.execute_input": "2025-07-18T14:12:03.335459Z",
     "iopub.status.busy": "2025-07-18T14:12:03.334827Z",
     "iopub.status.idle": "2025-07-18T14:12:03.340675Z",
     "shell.execute_reply": "2025-07-18T14:12:03.339660Z"
    },
    "papermill": {
     "duration": 0.015541,
     "end_time": "2025-07-18T14:12:03.341995",
     "exception": false,
     "start_time": "2025-07-18T14:12:03.326454",
     "status": "completed"
    },
    "tags": []
   },
   "outputs": [
    {
     "name": "stdout",
     "output_type": "stream",
     "text": [
      "appointments columns: ['appointment_id', 'patient_id', 'doctor_id', 'appointment_date', 'appointment_time', 'reason_for_visit', 'status']\n",
      "patients columns: ['patient_id', 'first_name', 'last_name', 'gender', 'date_of_birth', 'contact_number', 'address', 'registration_date', 'insurance_provider', 'insurance_number', 'email']\n",
      "billing columns: ['bill_id', 'patient_id', 'treatment_id', 'bill_date', 'amount', 'payment_method', 'payment_status']\n",
      "doctors columns: ['doctor_id', 'first_name', 'last_name', 'specialization', 'phone_number', 'years_experience', 'hospital_branch', 'email']\n",
      "treatments columns: ['treatment_id', 'appointment_id', 'treatment_type', 'description', 'cost', 'treatment_date']\n"
     ]
    }
   ],
   "source": [
    "print(\"appointments columns:\",appointments.columns.tolist())\n",
    "print(\"patients columns:\",patients.columns.tolist())\n",
    "print(\"billing columns:\",billing.columns.tolist())\n",
    "print(\"doctors columns:\",doctors.columns.tolist())\n",
    "print(\"treatments columns:\",treatments.columns.tolist())"
   ]
  },
  {
   "cell_type": "code",
   "execution_count": 8,
   "id": "f986e0ad",
   "metadata": {
    "execution": {
     "iopub.execute_input": "2025-07-18T14:12:03.358762Z",
     "iopub.status.busy": "2025-07-18T14:12:03.358467Z",
     "iopub.status.idle": "2025-07-18T14:12:03.393658Z",
     "shell.execute_reply": "2025-07-18T14:12:03.392761Z"
    },
    "papermill": {
     "duration": 0.04525,
     "end_time": "2025-07-18T14:12:03.395146",
     "exception": false,
     "start_time": "2025-07-18T14:12:03.349896",
     "status": "completed"
    },
    "tags": []
   },
   "outputs": [
    {
     "name": "stdout",
     "output_type": "stream",
     "text": [
      "  appointment_id_x patient_id doctor_id appointment_date appointment_time  \\\n",
      "0             A001       P034      D009       2023-08-09         15:15:00   \n",
      "1             A001       P034      D009       2023-08-09         15:15:00   \n",
      "2             A001       P034      D009       2023-08-09         15:15:00   \n",
      "3             A002       P032      D004       2023-06-09         14:30:00   \n",
      "4             A002       P032      D004       2023-06-09         14:30:00   \n",
      "\n",
      "  reason_for_visit     status first_name_x last_name_x gender_x  ...  \\\n",
      "0          Therapy  Scheduled         Alex       Smith        F  ...   \n",
      "1          Therapy  Scheduled         Alex       Smith        F  ...   \n",
      "2          Therapy  Scheduled         Alex       Smith        F  ...   \n",
      "3          Therapy    No-show         Alex       Moore        M  ...   \n",
      "4          Therapy    No-show         Alex       Moore        M  ...   \n",
      "\n",
      "  specialization  phone_number years_experience   hospital_branch  \\\n",
      "0     Pediatrics    7387087517               26  Central Hospital   \n",
      "1     Pediatrics    7387087517               26  Central Hospital   \n",
      "2     Pediatrics    7387087517               26  Central Hospital   \n",
      "3     Pediatrics    6594221991               28  Central Hospital   \n",
      "4     Pediatrics    6594221991               28  Central Hospital   \n",
      "\n",
      "                         email appointment_id_y treatment_type  \\\n",
      "0  dr.sarah.smith@hospital.com             A001   Chemotherapy   \n",
      "1  dr.sarah.smith@hospital.com             A043          X-Ray   \n",
      "2  dr.sarah.smith@hospital.com             A093          X-Ray   \n",
      "3  dr.david.jones@hospital.com             A002            MRI   \n",
      "4  dr.david.jones@hospital.com             A047            ECG   \n",
      "\n",
      "         description     cost treatment_date  \n",
      "0    Basic screening  3941.97     2023-08-09  \n",
      "1  Advanced protocol  3207.25     2023-03-29  \n",
      "2    Basic screening  1955.17     2023-04-09  \n",
      "3  Advanced protocol  4158.44     2023-06-09  \n",
      "4  Advanced protocol  1454.20     2023-05-02  \n",
      "\n",
      "[5 rows x 45 columns]\n"
     ]
    }
   ],
   "source": [
    "merge_data = (\n",
    "    appointments\n",
    "    .merge(patients, on=\"patient_id\")\n",
    "    .merge(billing, on=\"patient_id\")\n",
    "    .merge(patients,on=\"patient_id\")\n",
    "    .merge(doctors,on=\"doctor_id\")\n",
    "    .merge(treatments,on=\"treatment_id\")\n",
    ")\n",
    "\n",
    "print(merge_data.head(5))"
   ]
  },
  {
   "cell_type": "markdown",
   "id": "ba8142c8",
   "metadata": {
    "papermill": {
     "duration": 0.007406,
     "end_time": "2025-07-18T14:12:03.410490",
     "exception": false,
     "start_time": "2025-07-18T14:12:03.403084",
     "status": "completed"
    },
    "tags": []
   },
   "source": [
    "# Feautre Engineering"
   ]
  },
  {
   "cell_type": "code",
   "execution_count": 9,
   "id": "02d344af",
   "metadata": {
    "execution": {
     "iopub.execute_input": "2025-07-18T14:12:03.427086Z",
     "iopub.status.busy": "2025-07-18T14:12:03.426713Z",
     "iopub.status.idle": "2025-07-18T14:12:03.435801Z",
     "shell.execute_reply": "2025-07-18T14:12:03.434583Z"
    },
    "papermill": {
     "duration": 0.019556,
     "end_time": "2025-07-18T14:12:03.437492",
     "exception": false,
     "start_time": "2025-07-18T14:12:03.417936",
     "status": "completed"
    },
    "tags": []
   },
   "outputs": [
    {
     "name": "stdout",
     "output_type": "stream",
     "text": [
      "appointment_id_x        0\n",
      "patient_id              0\n",
      "doctor_id               0\n",
      "appointment_date        0\n",
      "appointment_time        0\n",
      "reason_for_visit        0\n",
      "status                  0\n",
      "first_name_x            0\n",
      "last_name_x             0\n",
      "gender_x                0\n",
      "date_of_birth_x         0\n",
      "contact_number_x        0\n",
      "address_x               0\n",
      "registration_date_x     0\n",
      "insurance_provider_x    0\n",
      "insurance_number_x      0\n",
      "email_x                 0\n",
      "bill_id                 0\n",
      "treatment_id            0\n",
      "bill_date               0\n",
      "amount                  0\n",
      "payment_method          0\n",
      "payment_status          0\n",
      "first_name_y            0\n",
      "last_name_y             0\n",
      "gender_y                0\n",
      "date_of_birth_y         0\n",
      "contact_number_y        0\n",
      "address_y               0\n",
      "registration_date_y     0\n",
      "insurance_provider_y    0\n",
      "insurance_number_y      0\n",
      "email_y                 0\n",
      "first_name              0\n",
      "last_name               0\n",
      "specialization          0\n",
      "phone_number            0\n",
      "years_experience        0\n",
      "hospital_branch         0\n",
      "email                   0\n",
      "appointment_id_y        0\n",
      "treatment_type          0\n",
      "description             0\n",
      "cost                    0\n",
      "treatment_date          0\n",
      "dtype: int64\n"
     ]
    }
   ],
   "source": [
    "print(merge_data.isnull().sum())"
   ]
  },
  {
   "cell_type": "code",
   "execution_count": 10,
   "id": "8db4d2f8",
   "metadata": {
    "execution": {
     "iopub.execute_input": "2025-07-18T14:12:03.455438Z",
     "iopub.status.busy": "2025-07-18T14:12:03.454789Z",
     "iopub.status.idle": "2025-07-18T14:12:03.460239Z",
     "shell.execute_reply": "2025-07-18T14:12:03.459314Z"
    },
    "papermill": {
     "duration": 0.015804,
     "end_time": "2025-07-18T14:12:03.461504",
     "exception": false,
     "start_time": "2025-07-18T14:12:03.445700",
     "status": "completed"
    },
    "tags": []
   },
   "outputs": [
    {
     "name": "stdout",
     "output_type": "stream",
     "text": [
      "Index(['appointment_id_x', 'patient_id', 'doctor_id', 'appointment_date',\n",
      "       'appointment_time', 'reason_for_visit', 'status', 'first_name_x',\n",
      "       'last_name_x', 'gender_x', 'date_of_birth_x', 'contact_number_x',\n",
      "       'address_x', 'registration_date_x', 'insurance_provider_x',\n",
      "       'insurance_number_x', 'email_x', 'bill_id', 'treatment_id', 'bill_date',\n",
      "       'amount', 'payment_method', 'payment_status', 'first_name_y',\n",
      "       'last_name_y', 'gender_y', 'date_of_birth_y', 'contact_number_y',\n",
      "       'address_y', 'registration_date_y', 'insurance_provider_y',\n",
      "       'insurance_number_y', 'email_y', 'first_name', 'last_name',\n",
      "       'specialization', 'phone_number', 'years_experience', 'hospital_branch',\n",
      "       'email', 'appointment_id_y', 'treatment_type', 'description', 'cost',\n",
      "       'treatment_date'],\n",
      "      dtype='object')\n"
     ]
    }
   ],
   "source": [
    "print(merge_data.columns)"
   ]
  },
  {
   "cell_type": "code",
   "execution_count": 11,
   "id": "919c9d83",
   "metadata": {
    "execution": {
     "iopub.execute_input": "2025-07-18T14:12:03.478421Z",
     "iopub.status.busy": "2025-07-18T14:12:03.478093Z",
     "iopub.status.idle": "2025-07-18T14:12:03.503061Z",
     "shell.execute_reply": "2025-07-18T14:12:03.502057Z"
    },
    "papermill": {
     "duration": 0.035118,
     "end_time": "2025-07-18T14:12:03.504606",
     "exception": false,
     "start_time": "2025-07-18T14:12:03.469488",
     "status": "completed"
    },
    "tags": []
   },
   "outputs": [
    {
     "data": {
      "text/html": [
       "<div>\n",
       "<style scoped>\n",
       "    .dataframe tbody tr th:only-of-type {\n",
       "        vertical-align: middle;\n",
       "    }\n",
       "\n",
       "    .dataframe tbody tr th {\n",
       "        vertical-align: top;\n",
       "    }\n",
       "\n",
       "    .dataframe thead th {\n",
       "        text-align: right;\n",
       "    }\n",
       "</style>\n",
       "<table border=\"1\" class=\"dataframe\">\n",
       "  <thead>\n",
       "    <tr style=\"text-align: right;\">\n",
       "      <th></th>\n",
       "      <th>appointment_id_x</th>\n",
       "      <th>patient_id</th>\n",
       "      <th>doctor_id</th>\n",
       "      <th>appointment_date</th>\n",
       "      <th>appointment_time</th>\n",
       "      <th>reason_for_visit</th>\n",
       "      <th>status</th>\n",
       "      <th>first_name_x</th>\n",
       "      <th>last_name_x</th>\n",
       "      <th>gender_x</th>\n",
       "      <th>...</th>\n",
       "      <th>specialization</th>\n",
       "      <th>phone_number</th>\n",
       "      <th>years_experience</th>\n",
       "      <th>hospital_branch</th>\n",
       "      <th>email</th>\n",
       "      <th>appointment_id_y</th>\n",
       "      <th>treatment_type</th>\n",
       "      <th>description</th>\n",
       "      <th>cost</th>\n",
       "      <th>treatment_date</th>\n",
       "    </tr>\n",
       "  </thead>\n",
       "  <tbody>\n",
       "    <tr>\n",
       "      <th>0</th>\n",
       "      <td>A001</td>\n",
       "      <td>P034</td>\n",
       "      <td>D009</td>\n",
       "      <td>2023-08-09</td>\n",
       "      <td>15:15:00</td>\n",
       "      <td>Therapy</td>\n",
       "      <td>Scheduled</td>\n",
       "      <td>Alex</td>\n",
       "      <td>Smith</td>\n",
       "      <td>F</td>\n",
       "      <td>...</td>\n",
       "      <td>Pediatrics</td>\n",
       "      <td>7387087517</td>\n",
       "      <td>26</td>\n",
       "      <td>Central Hospital</td>\n",
       "      <td>dr.sarah.smith@hospital.com</td>\n",
       "      <td>A001</td>\n",
       "      <td>Chemotherapy</td>\n",
       "      <td>Basic screening</td>\n",
       "      <td>3941.97</td>\n",
       "      <td>2023-08-09</td>\n",
       "    </tr>\n",
       "    <tr>\n",
       "      <th>1</th>\n",
       "      <td>A001</td>\n",
       "      <td>P034</td>\n",
       "      <td>D009</td>\n",
       "      <td>2023-08-09</td>\n",
       "      <td>15:15:00</td>\n",
       "      <td>Therapy</td>\n",
       "      <td>Scheduled</td>\n",
       "      <td>Alex</td>\n",
       "      <td>Smith</td>\n",
       "      <td>F</td>\n",
       "      <td>...</td>\n",
       "      <td>Pediatrics</td>\n",
       "      <td>7387087517</td>\n",
       "      <td>26</td>\n",
       "      <td>Central Hospital</td>\n",
       "      <td>dr.sarah.smith@hospital.com</td>\n",
       "      <td>A043</td>\n",
       "      <td>X-Ray</td>\n",
       "      <td>Advanced protocol</td>\n",
       "      <td>3207.25</td>\n",
       "      <td>2023-03-29</td>\n",
       "    </tr>\n",
       "    <tr>\n",
       "      <th>2</th>\n",
       "      <td>A001</td>\n",
       "      <td>P034</td>\n",
       "      <td>D009</td>\n",
       "      <td>2023-08-09</td>\n",
       "      <td>15:15:00</td>\n",
       "      <td>Therapy</td>\n",
       "      <td>Scheduled</td>\n",
       "      <td>Alex</td>\n",
       "      <td>Smith</td>\n",
       "      <td>F</td>\n",
       "      <td>...</td>\n",
       "      <td>Pediatrics</td>\n",
       "      <td>7387087517</td>\n",
       "      <td>26</td>\n",
       "      <td>Central Hospital</td>\n",
       "      <td>dr.sarah.smith@hospital.com</td>\n",
       "      <td>A093</td>\n",
       "      <td>X-Ray</td>\n",
       "      <td>Basic screening</td>\n",
       "      <td>1955.17</td>\n",
       "      <td>2023-04-09</td>\n",
       "    </tr>\n",
       "    <tr>\n",
       "      <th>3</th>\n",
       "      <td>A002</td>\n",
       "      <td>P032</td>\n",
       "      <td>D004</td>\n",
       "      <td>2023-06-09</td>\n",
       "      <td>14:30:00</td>\n",
       "      <td>Therapy</td>\n",
       "      <td>No-show</td>\n",
       "      <td>Alex</td>\n",
       "      <td>Moore</td>\n",
       "      <td>M</td>\n",
       "      <td>...</td>\n",
       "      <td>Pediatrics</td>\n",
       "      <td>6594221991</td>\n",
       "      <td>28</td>\n",
       "      <td>Central Hospital</td>\n",
       "      <td>dr.david.jones@hospital.com</td>\n",
       "      <td>A002</td>\n",
       "      <td>MRI</td>\n",
       "      <td>Advanced protocol</td>\n",
       "      <td>4158.44</td>\n",
       "      <td>2023-06-09</td>\n",
       "    </tr>\n",
       "    <tr>\n",
       "      <th>4</th>\n",
       "      <td>A002</td>\n",
       "      <td>P032</td>\n",
       "      <td>D004</td>\n",
       "      <td>2023-06-09</td>\n",
       "      <td>14:30:00</td>\n",
       "      <td>Therapy</td>\n",
       "      <td>No-show</td>\n",
       "      <td>Alex</td>\n",
       "      <td>Moore</td>\n",
       "      <td>M</td>\n",
       "      <td>...</td>\n",
       "      <td>Pediatrics</td>\n",
       "      <td>6594221991</td>\n",
       "      <td>28</td>\n",
       "      <td>Central Hospital</td>\n",
       "      <td>dr.david.jones@hospital.com</td>\n",
       "      <td>A047</td>\n",
       "      <td>ECG</td>\n",
       "      <td>Advanced protocol</td>\n",
       "      <td>1454.20</td>\n",
       "      <td>2023-05-02</td>\n",
       "    </tr>\n",
       "    <tr>\n",
       "      <th>...</th>\n",
       "      <td>...</td>\n",
       "      <td>...</td>\n",
       "      <td>...</td>\n",
       "      <td>...</td>\n",
       "      <td>...</td>\n",
       "      <td>...</td>\n",
       "      <td>...</td>\n",
       "      <td>...</td>\n",
       "      <td>...</td>\n",
       "      <td>...</td>\n",
       "      <td>...</td>\n",
       "      <td>...</td>\n",
       "      <td>...</td>\n",
       "      <td>...</td>\n",
       "      <td>...</td>\n",
       "      <td>...</td>\n",
       "      <td>...</td>\n",
       "      <td>...</td>\n",
       "      <td>...</td>\n",
       "      <td>...</td>\n",
       "      <td>...</td>\n",
       "    </tr>\n",
       "    <tr>\n",
       "      <th>997</th>\n",
       "      <td>A199</td>\n",
       "      <td>P017</td>\n",
       "      <td>D001</td>\n",
       "      <td>2023-05-01</td>\n",
       "      <td>12:45:00</td>\n",
       "      <td>Follow-up</td>\n",
       "      <td>Completed</td>\n",
       "      <td>Jane</td>\n",
       "      <td>Jones</td>\n",
       "      <td>M</td>\n",
       "      <td>...</td>\n",
       "      <td>Dermatology</td>\n",
       "      <td>8322010158</td>\n",
       "      <td>17</td>\n",
       "      <td>Westside Clinic</td>\n",
       "      <td>dr.david.taylor@hospital.com</td>\n",
       "      <td>A199</td>\n",
       "      <td>Chemotherapy</td>\n",
       "      <td>Basic screening</td>\n",
       "      <td>1472.17</td>\n",
       "      <td>2023-05-01</td>\n",
       "    </tr>\n",
       "    <tr>\n",
       "      <th>998</th>\n",
       "      <td>A200</td>\n",
       "      <td>P007</td>\n",
       "      <td>D005</td>\n",
       "      <td>2023-12-30</td>\n",
       "      <td>10:15:00</td>\n",
       "      <td>Consultation</td>\n",
       "      <td>Cancelled</td>\n",
       "      <td>Alex</td>\n",
       "      <td>Johnson</td>\n",
       "      <td>F</td>\n",
       "      <td>...</td>\n",
       "      <td>Dermatology</td>\n",
       "      <td>9118538547</td>\n",
       "      <td>26</td>\n",
       "      <td>Central Hospital</td>\n",
       "      <td>dr.sarah.taylor@hospital.com</td>\n",
       "      <td>A095</td>\n",
       "      <td>X-Ray</td>\n",
       "      <td>Advanced protocol</td>\n",
       "      <td>2097.48</td>\n",
       "      <td>2023-05-09</td>\n",
       "    </tr>\n",
       "    <tr>\n",
       "      <th>999</th>\n",
       "      <td>A200</td>\n",
       "      <td>P007</td>\n",
       "      <td>D005</td>\n",
       "      <td>2023-12-30</td>\n",
       "      <td>10:15:00</td>\n",
       "      <td>Consultation</td>\n",
       "      <td>Cancelled</td>\n",
       "      <td>Alex</td>\n",
       "      <td>Johnson</td>\n",
       "      <td>F</td>\n",
       "      <td>...</td>\n",
       "      <td>Dermatology</td>\n",
       "      <td>9118538547</td>\n",
       "      <td>26</td>\n",
       "      <td>Central Hospital</td>\n",
       "      <td>dr.sarah.taylor@hospital.com</td>\n",
       "      <td>A145</td>\n",
       "      <td>X-Ray</td>\n",
       "      <td>Advanced protocol</td>\n",
       "      <td>2120.61</td>\n",
       "      <td>2023-11-11</td>\n",
       "    </tr>\n",
       "    <tr>\n",
       "      <th>1000</th>\n",
       "      <td>A200</td>\n",
       "      <td>P007</td>\n",
       "      <td>D005</td>\n",
       "      <td>2023-12-30</td>\n",
       "      <td>10:15:00</td>\n",
       "      <td>Consultation</td>\n",
       "      <td>Cancelled</td>\n",
       "      <td>Alex</td>\n",
       "      <td>Johnson</td>\n",
       "      <td>F</td>\n",
       "      <td>...</td>\n",
       "      <td>Dermatology</td>\n",
       "      <td>9118538547</td>\n",
       "      <td>26</td>\n",
       "      <td>Central Hospital</td>\n",
       "      <td>dr.sarah.taylor@hospital.com</td>\n",
       "      <td>A180</td>\n",
       "      <td>Chemotherapy</td>\n",
       "      <td>Advanced protocol</td>\n",
       "      <td>3228.14</td>\n",
       "      <td>2023-01-07</td>\n",
       "    </tr>\n",
       "    <tr>\n",
       "      <th>1001</th>\n",
       "      <td>A200</td>\n",
       "      <td>P007</td>\n",
       "      <td>D005</td>\n",
       "      <td>2023-12-30</td>\n",
       "      <td>10:15:00</td>\n",
       "      <td>Consultation</td>\n",
       "      <td>Cancelled</td>\n",
       "      <td>Alex</td>\n",
       "      <td>Johnson</td>\n",
       "      <td>F</td>\n",
       "      <td>...</td>\n",
       "      <td>Dermatology</td>\n",
       "      <td>9118538547</td>\n",
       "      <td>26</td>\n",
       "      <td>Central Hospital</td>\n",
       "      <td>dr.sarah.taylor@hospital.com</td>\n",
       "      <td>A200</td>\n",
       "      <td>X-Ray</td>\n",
       "      <td>Basic screening</td>\n",
       "      <td>3288.15</td>\n",
       "      <td>2023-12-30</td>\n",
       "    </tr>\n",
       "  </tbody>\n",
       "</table>\n",
       "<p>1002 rows × 45 columns</p>\n",
       "</div>"
      ],
      "text/plain": [
       "     appointment_id_x patient_id doctor_id appointment_date appointment_time  \\\n",
       "0                A001       P034      D009       2023-08-09         15:15:00   \n",
       "1                A001       P034      D009       2023-08-09         15:15:00   \n",
       "2                A001       P034      D009       2023-08-09         15:15:00   \n",
       "3                A002       P032      D004       2023-06-09         14:30:00   \n",
       "4                A002       P032      D004       2023-06-09         14:30:00   \n",
       "...               ...        ...       ...              ...              ...   \n",
       "997              A199       P017      D001       2023-05-01         12:45:00   \n",
       "998              A200       P007      D005       2023-12-30         10:15:00   \n",
       "999              A200       P007      D005       2023-12-30         10:15:00   \n",
       "1000             A200       P007      D005       2023-12-30         10:15:00   \n",
       "1001             A200       P007      D005       2023-12-30         10:15:00   \n",
       "\n",
       "     reason_for_visit     status first_name_x last_name_x gender_x  ...  \\\n",
       "0             Therapy  Scheduled         Alex       Smith        F  ...   \n",
       "1             Therapy  Scheduled         Alex       Smith        F  ...   \n",
       "2             Therapy  Scheduled         Alex       Smith        F  ...   \n",
       "3             Therapy    No-show         Alex       Moore        M  ...   \n",
       "4             Therapy    No-show         Alex       Moore        M  ...   \n",
       "...               ...        ...          ...         ...      ...  ...   \n",
       "997         Follow-up  Completed         Jane       Jones        M  ...   \n",
       "998      Consultation  Cancelled         Alex     Johnson        F  ...   \n",
       "999      Consultation  Cancelled         Alex     Johnson        F  ...   \n",
       "1000     Consultation  Cancelled         Alex     Johnson        F  ...   \n",
       "1001     Consultation  Cancelled         Alex     Johnson        F  ...   \n",
       "\n",
       "     specialization  phone_number years_experience   hospital_branch  \\\n",
       "0        Pediatrics    7387087517               26  Central Hospital   \n",
       "1        Pediatrics    7387087517               26  Central Hospital   \n",
       "2        Pediatrics    7387087517               26  Central Hospital   \n",
       "3        Pediatrics    6594221991               28  Central Hospital   \n",
       "4        Pediatrics    6594221991               28  Central Hospital   \n",
       "...             ...           ...              ...               ...   \n",
       "997     Dermatology    8322010158               17   Westside Clinic   \n",
       "998     Dermatology    9118538547               26  Central Hospital   \n",
       "999     Dermatology    9118538547               26  Central Hospital   \n",
       "1000    Dermatology    9118538547               26  Central Hospital   \n",
       "1001    Dermatology    9118538547               26  Central Hospital   \n",
       "\n",
       "                             email appointment_id_y treatment_type  \\\n",
       "0      dr.sarah.smith@hospital.com             A001   Chemotherapy   \n",
       "1      dr.sarah.smith@hospital.com             A043          X-Ray   \n",
       "2      dr.sarah.smith@hospital.com             A093          X-Ray   \n",
       "3      dr.david.jones@hospital.com             A002            MRI   \n",
       "4      dr.david.jones@hospital.com             A047            ECG   \n",
       "...                            ...              ...            ...   \n",
       "997   dr.david.taylor@hospital.com             A199   Chemotherapy   \n",
       "998   dr.sarah.taylor@hospital.com             A095          X-Ray   \n",
       "999   dr.sarah.taylor@hospital.com             A145          X-Ray   \n",
       "1000  dr.sarah.taylor@hospital.com             A180   Chemotherapy   \n",
       "1001  dr.sarah.taylor@hospital.com             A200          X-Ray   \n",
       "\n",
       "            description     cost treatment_date  \n",
       "0       Basic screening  3941.97     2023-08-09  \n",
       "1     Advanced protocol  3207.25     2023-03-29  \n",
       "2       Basic screening  1955.17     2023-04-09  \n",
       "3     Advanced protocol  4158.44     2023-06-09  \n",
       "4     Advanced protocol  1454.20     2023-05-02  \n",
       "...                 ...      ...            ...  \n",
       "997     Basic screening  1472.17     2023-05-01  \n",
       "998   Advanced protocol  2097.48     2023-05-09  \n",
       "999   Advanced protocol  2120.61     2023-11-11  \n",
       "1000  Advanced protocol  3228.14     2023-01-07  \n",
       "1001    Basic screening  3288.15     2023-12-30  \n",
       "\n",
       "[1002 rows x 45 columns]"
      ]
     },
     "execution_count": 11,
     "metadata": {},
     "output_type": "execute_result"
    }
   ],
   "source": [
    "merge_data.fillna(0)"
   ]
  },
  {
   "cell_type": "code",
   "execution_count": 12,
   "id": "6a691fd7",
   "metadata": {
    "execution": {
     "iopub.execute_input": "2025-07-18T14:12:03.522897Z",
     "iopub.status.busy": "2025-07-18T14:12:03.522599Z",
     "iopub.status.idle": "2025-07-18T14:12:03.528990Z",
     "shell.execute_reply": "2025-07-18T14:12:03.527973Z"
    },
    "papermill": {
     "duration": 0.017006,
     "end_time": "2025-07-18T14:12:03.530369",
     "exception": false,
     "start_time": "2025-07-18T14:12:03.513363",
     "status": "completed"
    },
    "tags": []
   },
   "outputs": [
    {
     "name": "stdout",
     "output_type": "stream",
     "text": [
      "status\n",
      "No-show      283\n",
      "Scheduled    259\n",
      "Cancelled    251\n",
      "Completed    209\n",
      "Name: count, dtype: int64\n"
     ]
    }
   ],
   "source": [
    "print(merge_data['status'].value_counts())\n"
   ]
  },
  {
   "cell_type": "markdown",
   "id": "7f6c22b8",
   "metadata": {
    "papermill": {
     "duration": 0.072134,
     "end_time": "2025-07-18T14:12:03.612830",
     "exception": false,
     "start_time": "2025-07-18T14:12:03.540696",
     "status": "completed"
    },
    "tags": []
   },
   "source": [
    "# Data Framing For Time"
   ]
  },
  {
   "cell_type": "code",
   "execution_count": 13,
   "id": "0ea44db5",
   "metadata": {
    "execution": {
     "iopub.execute_input": "2025-07-18T14:12:03.631994Z",
     "iopub.status.busy": "2025-07-18T14:12:03.631296Z",
     "iopub.status.idle": "2025-07-18T14:12:03.653083Z",
     "shell.execute_reply": "2025-07-18T14:12:03.652046Z"
    },
    "papermill": {
     "duration": 0.032791,
     "end_time": "2025-07-18T14:12:03.654659",
     "exception": false,
     "start_time": "2025-07-18T14:12:03.621868",
     "status": "completed"
    },
    "tags": []
   },
   "outputs": [
    {
     "name": "stdout",
     "output_type": "stream",
     "text": [
      "  appointment_date  year  day  days_of_week  hour  is_weekend  quarter\n",
      "0       2023-08-09  2023    9             2     0       False        3\n",
      "1       2023-08-09  2023    9             2     0       False        3\n",
      "2       2023-08-09  2023    9             2     0       False        3\n",
      "3       2023-06-09  2023    9             4     0       False        2\n",
      "4       2023-06-09  2023    9             4     0       False        2\n"
     ]
    }
   ],
   "source": [
    "merge_data[\"appointment_date\"]=pd.to_datetime(merge_data[\"appointment_date\"])\n",
    "merge_data[\"year\"]=merge_data[\"appointment_date\"].dt.year\n",
    "merge_data[\"month\"]=merge_data[\"appointment_date\"].dt.month\n",
    "merge_data[\"day\"]=merge_data[\"appointment_date\"].dt.day\n",
    "merge_data[\"days_of_week\"]=merge_data[\"appointment_date\"].dt.dayofweek\n",
    "merge_data[\"hour\"]=merge_data[\"appointment_date\"].dt.hour\n",
    "merge_data[\"is_weekend\"]=merge_data[\"days_of_week\"]>=5\n",
    "merge_data[\"quarter\"]=merge_data[\"appointment_date\"].dt.quarter\n",
    "\n",
    "print(merge_data[['appointment_date','year','day','days_of_week','hour','is_weekend','quarter']].head())"
   ]
  },
  {
   "cell_type": "markdown",
   "id": "4a54fa8b",
   "metadata": {
    "papermill": {
     "duration": 0.008547,
     "end_time": "2025-07-18T14:12:03.671930",
     "exception": false,
     "start_time": "2025-07-18T14:12:03.663383",
     "status": "completed"
    },
    "tags": []
   },
   "source": [
    "Seasonal Calculation-Analysis"
   ]
  },
  {
   "cell_type": "code",
   "execution_count": 14,
   "id": "9a7a4b5c",
   "metadata": {
    "execution": {
     "iopub.execute_input": "2025-07-18T14:12:03.690353Z",
     "iopub.status.busy": "2025-07-18T14:12:03.690041Z",
     "iopub.status.idle": "2025-07-18T14:12:03.697492Z",
     "shell.execute_reply": "2025-07-18T14:12:03.696703Z"
    },
    "papermill": {
     "duration": 0.018357,
     "end_time": "2025-07-18T14:12:03.698933",
     "exception": false,
     "start_time": "2025-07-18T14:12:03.680576",
     "status": "completed"
    },
    "tags": []
   },
   "outputs": [],
   "source": [
    "def get_season(month):\n",
    "    if month in[12,1,2]:\n",
    "        return \"winter\"\n",
    "    elif month in[3,4,5]:\n",
    "        return \"Summer\"\n",
    "    elif month in [6,7,8]:\n",
    "        return \"spring\"\n",
    "    else:\n",
    "        return \"Autumn\"\n",
    "\n",
    "merge_data['season']=merge_data[\"appointment_date\"].dt.month.apply(get_season)"
   ]
  },
  {
   "cell_type": "code",
   "execution_count": 15,
   "id": "3c357002",
   "metadata": {
    "execution": {
     "iopub.execute_input": "2025-07-18T14:12:03.718149Z",
     "iopub.status.busy": "2025-07-18T14:12:03.717556Z",
     "iopub.status.idle": "2025-07-18T14:12:03.723650Z",
     "shell.execute_reply": "2025-07-18T14:12:03.722681Z"
    },
    "papermill": {
     "duration": 0.017065,
     "end_time": "2025-07-18T14:12:03.725103",
     "exception": false,
     "start_time": "2025-07-18T14:12:03.708038",
     "status": "completed"
    },
    "tags": []
   },
   "outputs": [
    {
     "name": "stdout",
     "output_type": "stream",
     "text": [
      "season\n",
      "Summer    309\n",
      "spring    233\n",
      "winter    233\n",
      "Autumn    227\n",
      "Name: count, dtype: int64\n"
     ]
    }
   ],
   "source": [
    "print(merge_data['season'].value_counts())"
   ]
  },
  {
   "cell_type": "code",
   "execution_count": 16,
   "id": "0cfc0c54",
   "metadata": {
    "execution": {
     "iopub.execute_input": "2025-07-18T14:12:03.743821Z",
     "iopub.status.busy": "2025-07-18T14:12:03.743530Z",
     "iopub.status.idle": "2025-07-18T14:12:03.751689Z",
     "shell.execute_reply": "2025-07-18T14:12:03.750540Z"
    },
    "papermill": {
     "duration": 0.019216,
     "end_time": "2025-07-18T14:12:03.753133",
     "exception": false,
     "start_time": "2025-07-18T14:12:03.733917",
     "status": "completed"
    },
    "tags": []
   },
   "outputs": [
    {
     "name": "stdout",
     "output_type": "stream",
     "text": [
      "days\n",
      "Weekend     882\n",
      "weekdays    120\n",
      "Name: count, dtype: int64\n"
     ]
    }
   ],
   "source": [
    "def days_of_week(day):\n",
    "    if day in[1,2,3,4,5]:\n",
    "        return \"weekdays\"\n",
    "    else:\n",
    "        return \"Weekend\"\n",
    "\n",
    "merge_data['days']=merge_data[\"appointment_date\"].dt.day.apply(days_of_week)\n",
    "\n",
    "print(merge_data['days'].value_counts())"
   ]
  },
  {
   "cell_type": "code",
   "execution_count": 17,
   "id": "4b775f3c",
   "metadata": {
    "execution": {
     "iopub.execute_input": "2025-07-18T14:12:03.772773Z",
     "iopub.status.busy": "2025-07-18T14:12:03.772470Z",
     "iopub.status.idle": "2025-07-18T14:12:03.779878Z",
     "shell.execute_reply": "2025-07-18T14:12:03.778948Z"
    },
    "papermill": {
     "duration": 0.019229,
     "end_time": "2025-07-18T14:12:03.781498",
     "exception": false,
     "start_time": "2025-07-18T14:12:03.762269",
     "status": "completed"
    },
    "tags": []
   },
   "outputs": [
    {
     "name": "stdout",
     "output_type": "stream",
     "text": [
      "year\n",
      "2nd half    526\n",
      "1st half    476\n",
      "Name: count, dtype: int64\n"
     ]
    }
   ],
   "source": [
    "def year(month):\n",
    "    if month in[1,2,3,4,5]:\n",
    "        return \"1st half\"\n",
    "    else:\n",
    "        return \"2nd half\"\n",
    "\n",
    "merge_data['year']=merge_data[\"appointment_date\"].dt.month.apply(year)\n",
    "\n",
    "print(merge_data['year'].value_counts())"
   ]
  },
  {
   "cell_type": "code",
   "execution_count": 18,
   "id": "e0e0f802",
   "metadata": {
    "execution": {
     "iopub.execute_input": "2025-07-18T14:12:03.800670Z",
     "iopub.status.busy": "2025-07-18T14:12:03.800355Z",
     "iopub.status.idle": "2025-07-18T14:12:03.808320Z",
     "shell.execute_reply": "2025-07-18T14:12:03.807389Z"
    },
    "papermill": {
     "duration": 0.019169,
     "end_time": "2025-07-18T14:12:03.809663",
     "exception": false,
     "start_time": "2025-07-18T14:12:03.790494",
     "status": "completed"
    },
    "tags": []
   },
   "outputs": [
    {
     "name": "stdout",
     "output_type": "stream",
     "text": [
      "year\n",
      "2nd half    882\n",
      "1st half    120\n",
      "Name: count, dtype: int64\n"
     ]
    }
   ],
   "source": [
    "def is_weekend(is_weekend):\n",
    "    if is_weekend in[6,7]:\n",
    "        return \"weekend\"\n",
    "    else:\n",
    "        return \"weekdays\"\n",
    "\n",
    "merge_data['year']=merge_data[\"appointment_date\"].dt.day.apply(year)\n",
    "\n",
    "print(merge_data['year'].value_counts())"
   ]
  },
  {
   "cell_type": "markdown",
   "id": "ada4a9be",
   "metadata": {
    "papermill": {
     "duration": 0.008695,
     "end_time": "2025-07-18T14:12:03.827371",
     "exception": false,
     "start_time": "2025-07-18T14:12:03.818676",
     "status": "completed"
    },
    "tags": []
   },
   "source": [
    "# EDA"
   ]
  },
  {
   "cell_type": "code",
   "execution_count": 19,
   "id": "af43adfa",
   "metadata": {
    "execution": {
     "iopub.execute_input": "2025-07-18T14:12:03.846200Z",
     "iopub.status.busy": "2025-07-18T14:12:03.845887Z",
     "iopub.status.idle": "2025-07-18T14:12:04.195456Z",
     "shell.execute_reply": "2025-07-18T14:12:04.194458Z"
    },
    "papermill": {
     "duration": 0.361377,
     "end_time": "2025-07-18T14:12:04.197469",
     "exception": false,
     "start_time": "2025-07-18T14:12:03.836092",
     "status": "completed"
    },
    "tags": []
   },
   "outputs": [
    {
     "data": {
      "image/png": "[encoded data removed]",
      "text/plain": [
       "<Figure size 640x480 with 1 Axes>"
      ]
     },
     "metadata": {},
     "output_type": "display_data"
    }
   ],
   "source": [
    "merge_data['season'].value_counts().plot(kind='bar', color='blue',edgecolor='black')\n",
    "plt.title(\"Number of Appointments by Season\")\n",
    "plt.xlabel(\"Season\")\n",
    "plt.ylabel(\"Count\")\n",
    "plt.show()\n"
   ]
  },
  {
   "cell_type": "code",
   "execution_count": 20,
   "id": "4342d901",
   "metadata": {
    "execution": {
     "iopub.execute_input": "2025-07-18T14:12:04.223874Z",
     "iopub.status.busy": "2025-07-18T14:12:04.223190Z",
     "iopub.status.idle": "2025-07-18T14:12:04.406309Z",
     "shell.execute_reply": "2025-07-18T14:12:04.405393Z"
    },
    "papermill": {
     "duration": 0.195007,
     "end_time": "2025-07-18T14:12:04.407824",
     "exception": false,
     "start_time": "2025-07-18T14:12:04.212817",
     "status": "completed"
    },
    "tags": []
   },
   "outputs": [
    {
     "data": {
      "image/png": "[encoded data removed]",
      "text/plain": [
       "<Figure size 640x480 with 1 Axes>"
      ]
     },
     "metadata": {},
     "output_type": "display_data"
    }
   ],
   "source": [
    "merge_data['days_of_week'].value_counts().plot(kind='bar', color='green',edgecolor='black')\n",
    "plt.title(\"Number of Appointments by Days\")\n",
    "plt.xlabel(\"Days\")\n",
    "plt.ylabel(\"Count\")\n",
    "plt.show()\n"
   ]
  },
  {
   "cell_type": "code",
   "execution_count": 21,
   "id": "dc3d3701",
   "metadata": {
    "execution": {
     "iopub.execute_input": "2025-07-18T14:12:04.429480Z",
     "iopub.status.busy": "2025-07-18T14:12:04.429044Z",
     "iopub.status.idle": "2025-07-18T14:12:04.608992Z",
     "shell.execute_reply": "2025-07-18T14:12:04.608130Z"
    },
    "papermill": {
     "duration": 0.19246,
     "end_time": "2025-07-18T14:12:04.610742",
     "exception": false,
     "start_time": "2025-07-18T14:12:04.418282",
     "status": "completed"
    },
    "tags": []
   },
   "outputs": [
    {
     "data": {
      "image/png": "[encoded data removed]",
      "text/plain": [
       "<Figure size 640x480 with 1 Axes>"
      ]
     },
     "metadata": {},
     "output_type": "display_data"
    }
   ],
   "source": [
    "merge_data[\"is_weekend\"].value_counts().plot(kind='bar', color='green',edgecolor='black')\n",
    "plt.title(\"Number of Appointments by Weekends\")\n",
    "plt.xlabel(\"Days\")\n",
    "plt.ylabel(\"Count\")\n",
    "plt.show()\n"
   ]
  },
  {
   "cell_type": "code",
   "execution_count": 22,
   "id": "e2cc31cc",
   "metadata": {
    "execution": {
     "iopub.execute_input": "2025-07-18T14:12:04.640545Z",
     "iopub.status.busy": "2025-07-18T14:12:04.640080Z",
     "iopub.status.idle": "2025-07-18T14:12:04.784865Z",
     "shell.execute_reply": "2025-07-18T14:12:04.783948Z"
    },
    "papermill": {
     "duration": 0.157467,
     "end_time": "2025-07-18T14:12:04.786366",
     "exception": false,
     "start_time": "2025-07-18T14:12:04.628899",
     "status": "completed"
    },
    "tags": []
   },
   "outputs": [
    {
     "data": {
      "image/png": "[encoded data removed]",
      "text/plain": [
       "<Figure size 640x480 with 1 Axes>"
      ]
     },
     "metadata": {},
     "output_type": "display_data"
    }
   ],
   "source": [
    "merge_data['year'].value_counts().plot(kind='bar', color='orange',edgecolor='black')\n",
    "plt.title(\"Number of Appointments by year\")\n",
    "plt.xlabel(\"Days\")\n",
    "plt.ylabel(\"Count\")\n",
    "plt.show()\n"
   ]
  },
  {
   "cell_type": "code",
   "execution_count": 23,
   "id": "934f6404",
   "metadata": {
    "execution": {
     "iopub.execute_input": "2025-07-18T14:12:04.809377Z",
     "iopub.status.busy": "2025-07-18T14:12:04.808947Z",
     "iopub.status.idle": "2025-07-18T14:12:04.973012Z",
     "shell.execute_reply": "2025-07-18T14:12:04.972093Z"
    },
    "papermill": {
     "duration": 0.177361,
     "end_time": "2025-07-18T14:12:04.974797",
     "exception": false,
     "start_time": "2025-07-18T14:12:04.797436",
     "status": "completed"
    },
    "tags": []
   },
   "outputs": [
    {
     "data": {
      "image/png": "[encoded data removed]",
      "text/plain": [
       "<Figure size 640x480 with 1 Axes>"
      ]
     },
     "metadata": {},
     "output_type": "display_data"
    }
   ],
   "source": [
    "merge_data['is_weekend'].value_counts().plot(kind='bar', color='red',edgecolor='black')\n",
    "plt.title(\"Number of Appointments by weekend\")\n",
    "plt.xlabel(\"Days\")\n",
    "plt.ylabel(\"Count\")\n",
    "plt.show()\n"
   ]
  },
  {
   "cell_type": "code",
   "execution_count": 24,
   "id": "a8168799",
   "metadata": {
    "execution": {
     "iopub.execute_input": "2025-07-18T14:12:05.005415Z",
     "iopub.status.busy": "2025-07-18T14:12:05.004994Z",
     "iopub.status.idle": "2025-07-18T14:12:05.168572Z",
     "shell.execute_reply": "2025-07-18T14:12:05.167709Z"
    },
    "papermill": {
     "duration": 0.177259,
     "end_time": "2025-07-18T14:12:05.170357",
     "exception": false,
     "start_time": "2025-07-18T14:12:04.993098",
     "status": "completed"
    },
    "tags": []
   },
   "outputs": [
    {
     "data": {
      "image/png": "[encoded data removed]",
      "text/plain": [
       "<Figure size 640x480 with 1 Axes>"
      ]
     },
     "metadata": {},
     "output_type": "display_data"
    }
   ],
   "source": [
    "merge_data['treatment_type'].value_counts().plot(kind='bar', color='grey',edgecolor='black')\n",
    "plt.title(\"Number of Appointments based on treatments\")\n",
    "plt.xlabel(\"treatment type\")\n",
    "plt.ylabel(\"Count\")\n",
    "plt.show()\n"
   ]
  },
  {
   "cell_type": "code",
   "execution_count": 25,
   "id": "95d40cbc",
   "metadata": {
    "execution": {
     "iopub.execute_input": "2025-07-18T14:12:05.209415Z",
     "iopub.status.busy": "2025-07-18T14:12:05.209005Z",
     "iopub.status.idle": "2025-07-18T14:12:05.309860Z",
     "shell.execute_reply": "2025-07-18T14:12:05.308995Z"
    },
    "papermill": {
     "duration": 0.120508,
     "end_time": "2025-07-18T14:12:05.311361",
     "exception": false,
     "start_time": "2025-07-18T14:12:05.190853",
     "status": "completed"
    },
    "tags": []
   },
   "outputs": [
    {
     "data": {
      "image/png": "[encoded data removed]",
      "text/plain": [
       "<Figure size 640x480 with 1 Axes>"
      ]
     },
     "metadata": {},
     "output_type": "display_data"
    }
   ],
   "source": [
    "merge_data['gender_x'].value_counts().plot(kind='pie',colors=['blue','grey'],autopct='%1.1f%%')\n",
    "plt.title('Gender Distribution')\n",
    "plt.show()"
   ]
  },
  {
   "cell_type": "code",
   "execution_count": 26,
   "id": "cac01b84",
   "metadata": {
    "execution": {
     "iopub.execute_input": "2025-07-18T14:12:05.336467Z",
     "iopub.status.busy": "2025-07-18T14:12:05.335763Z",
     "iopub.status.idle": "2025-07-18T14:12:05.493019Z",
     "shell.execute_reply": "2025-07-18T14:12:05.492055Z"
    },
    "papermill": {
     "duration": 0.171524,
     "end_time": "2025-07-18T14:12:05.494627",
     "exception": false,
     "start_time": "2025-07-18T14:12:05.323103",
     "status": "completed"
    },
    "tags": []
   },
   "outputs": [
    {
     "data": {
      "image/png": "[encoded data removed]",
      "text/plain": [
       "<Figure size 640x480 with 1 Axes>"
      ]
     },
     "metadata": {},
     "output_type": "display_data"
    }
   ],
   "source": [
    "merge_data['specialization'].value_counts().plot(kind='bar',color='purple',edgecolor='black')\n",
    "plt.title('Doctor Specialization')\n",
    "plt.xlabel('Specialization')\n",
    "plt.ylabel('count')\n",
    "plt.show()"
   ]
  },
  {
   "cell_type": "code",
   "execution_count": 27,
   "id": "d853c35d",
   "metadata": {
    "execution": {
     "iopub.execute_input": "2025-07-18T14:12:05.521061Z",
     "iopub.status.busy": "2025-07-18T14:12:05.520169Z",
     "iopub.status.idle": "2025-07-18T14:12:05.688004Z",
     "shell.execute_reply": "2025-07-18T14:12:05.687104Z"
    },
    "papermill": {
     "duration": 0.182607,
     "end_time": "2025-07-18T14:12:05.689485",
     "exception": false,
     "start_time": "2025-07-18T14:12:05.506878",
     "status": "completed"
    },
    "tags": []
   },
   "outputs": [
    {
     "data": {
      "image/png": "[encoded data removed]",
      "text/plain": [
       "<Figure size 640x480 with 1 Axes>"
      ]
     },
     "metadata": {},
     "output_type": "display_data"
    }
   ],
   "source": [
    "merge_data['treatment_type'].value_counts().plot(kind='bar', color='yellow',edgecolor='black')\n",
    "plt.title(\"Cost of Appointments \")\n",
    "plt.xlabel(\"cost\")\n",
    "plt.ylabel(\"patient\")\n",
    "plt.show()\n"
   ]
  },
  {
   "cell_type": "code",
   "execution_count": 28,
   "id": "f9b282ad",
   "metadata": {
    "execution": {
     "iopub.execute_input": "2025-07-18T14:12:05.716502Z",
     "iopub.status.busy": "2025-07-18T14:12:05.716182Z",
     "iopub.status.idle": "2025-07-18T14:12:05.885126Z",
     "shell.execute_reply": "2025-07-18T14:12:05.884132Z"
    },
    "papermill": {
     "duration": 0.184319,
     "end_time": "2025-07-18T14:12:05.886647",
     "exception": false,
     "start_time": "2025-07-18T14:12:05.702328",
     "status": "completed"
    },
    "tags": []
   },
   "outputs": [
    {
     "data": {
      "image/png": "[encoded data removed]",
      "text/plain": [
       "<Figure size 640x480 with 1 Axes>"
      ]
     },
     "metadata": {},
     "output_type": "display_data"
    }
   ],
   "source": [
    "merge_data['years_experience'].value_counts().plot(kind='bar',color='skyblue',edgecolor='black')\n",
    "plt.title('year of Experience')\n",
    "plt.xlabel('Specialization')\n",
    "plt.ylabel('count')\n",
    "plt.show()"
   ]
  },
  {
   "cell_type": "code",
   "execution_count": 29,
   "id": "00f9ae95",
   "metadata": {
    "execution": {
     "iopub.execute_input": "2025-07-18T14:12:05.914128Z",
     "iopub.status.busy": "2025-07-18T14:12:05.913783Z",
     "iopub.status.idle": "2025-07-18T14:12:06.083512Z",
     "shell.execute_reply": "2025-07-18T14:12:06.082586Z"
    },
    "papermill": {
     "duration": 0.184957,
     "end_time": "2025-07-18T14:12:06.085037",
     "exception": false,
     "start_time": "2025-07-18T14:12:05.900080",
     "status": "completed"
    },
    "tags": []
   },
   "outputs": [
    {
     "data": {
      "image/png": "[encoded data removed]",
      "text/plain": [
       "<Figure size 640x480 with 1 Axes>"
      ]
     },
     "metadata": {},
     "output_type": "display_data"
    }
   ],
   "source": [
    "'hospital_branch'\n",
    "merge_data['hospital_branch'].value_counts().plot(kind='bar',color='black',edgecolor='black')\n",
    "plt.title('Hospital Branch')\n",
    "plt.xlabel('Specialization')\n",
    "plt.ylabel('count')\n",
    "plt.show()"
   ]
  },
  {
   "cell_type": "code",
   "execution_count": 30,
   "id": "101e95c0",
   "metadata": {
    "execution": {
     "iopub.execute_input": "2025-07-18T14:12:06.113531Z",
     "iopub.status.busy": "2025-07-18T14:12:06.113145Z",
     "iopub.status.idle": "2025-07-18T14:12:06.277135Z",
     "shell.execute_reply": "2025-07-18T14:12:06.276300Z"
    },
    "papermill": {
     "duration": 0.18005,
     "end_time": "2025-07-18T14:12:06.278616",
     "exception": false,
     "start_time": "2025-07-18T14:12:06.098566",
     "status": "completed"
    },
    "tags": []
   },
   "outputs": [
    {
     "data": {
      "image/png": "[encoded data removed]",
      "text/plain": [
       "<Figure size 640x480 with 1 Axes>"
      ]
     },
     "metadata": {},
     "output_type": "display_data"
    }
   ],
   "source": [
    "merge_data['insurance_provider_x'].value_counts().plot(kind='bar',color='Pink',edgecolor='black')\n",
    "plt.title('Insurance Agents')\n",
    "plt.xlabel('Insurance Provided')\n",
    "plt.ylabel('count')\n",
    "plt.show()"
   ]
  },
  {
   "cell_type": "code",
   "execution_count": 31,
   "id": "32ab7cbc",
   "metadata": {
    "execution": {
     "iopub.execute_input": "2025-07-18T14:12:06.308261Z",
     "iopub.status.busy": "2025-07-18T14:12:06.307481Z",
     "iopub.status.idle": "2025-07-18T14:12:06.460278Z",
     "shell.execute_reply": "2025-07-18T14:12:06.459302Z"
    },
    "papermill": {
     "duration": 0.16919,
     "end_time": "2025-07-18T14:12:06.461783",
     "exception": false,
     "start_time": "2025-07-18T14:12:06.292593",
     "status": "completed"
    },
    "tags": []
   },
   "outputs": [
    {
     "data": {
      "image/png": "[encoded data removed]",
      "text/plain": [
       "<Figure size 640x480 with 1 Axes>"
      ]
     },
     "metadata": {},
     "output_type": "display_data"
    }
   ],
   "source": [
    "merge_data['reason_for_visit'].value_counts().plot(kind='bar',color='brown',edgecolor='black')\n",
    "plt.title('Visiting reason')\n",
    "plt.xlabel('reason')\n",
    "plt.ylabel('count')\n",
    "plt.show()"
   ]
  },
  {
   "cell_type": "markdown",
   "id": "653d3b9a",
   "metadata": {
    "papermill": {
     "duration": 0.014055,
     "end_time": "2025-07-18T14:12:06.490156",
     "exception": false,
     "start_time": "2025-07-18T14:12:06.476101",
     "status": "completed"
    },
    "tags": []
   },
   "source": [
    "# Predictions"
   ]
  },
  {
   "cell_type": "code",
   "execution_count": 32,
   "id": "86e5b86f",
   "metadata": {
    "execution": {
     "iopub.execute_input": "2025-07-18T14:12:06.520012Z",
     "iopub.status.busy": "2025-07-18T14:12:06.519726Z",
     "iopub.status.idle": "2025-07-18T14:12:07.028082Z",
     "shell.execute_reply": "2025-07-18T14:12:07.027365Z"
    },
    "papermill": {
     "duration": 0.525263,
     "end_time": "2025-07-18T14:12:07.029734",
     "exception": false,
     "start_time": "2025-07-18T14:12:06.504471",
     "status": "completed"
    },
    "tags": []
   },
   "outputs": [],
   "source": [
    "from sklearn.model_selection import train_test_split\n",
    "from sklearn.linear_model import LogisticRegression\n",
    "from sklearn.metrics import accuracy_score,classification_report,confusion_matrix"
   ]
  },
  {
   "cell_type": "markdown",
   "id": "4b0d52d4",
   "metadata": {
    "papermill": {
     "duration": 0.013877,
     "end_time": "2025-07-18T14:12:07.058088",
     "exception": false,
     "start_time": "2025-07-18T14:12:07.044211",
     "status": "completed"
    },
    "tags": []
   },
   "source": [
    "# Model"
   ]
  },
  {
   "cell_type": "code",
   "execution_count": 33,
   "id": "dfbc1027",
   "metadata": {
    "execution": {
     "iopub.execute_input": "2025-07-18T14:12:07.087767Z",
     "iopub.status.busy": "2025-07-18T14:12:07.087445Z",
     "iopub.status.idle": "2025-07-18T14:12:07.097714Z",
     "shell.execute_reply": "2025-07-18T14:12:07.096636Z"
    },
    "papermill": {
     "duration": 0.027318,
     "end_time": "2025-07-18T14:12:07.099491",
     "exception": false,
     "start_time": "2025-07-18T14:12:07.072173",
     "status": "completed"
    },
    "tags": []
   },
   "outputs": [
    {
     "name": "stdout",
     "output_type": "stream",
     "text": [
      "no_show\n",
      "0    1002\n",
      "Name: count, dtype: int64\n"
     ]
    }
   ],
   "source": [
    "# Ensure the 'status' column exists and clean it\n",
    "merge_data['status'] = merge_data['status'].str.strip().str.lower()\n",
    "\n",
    "# Now create the 'no_show' column correctly\n",
    "merge_data['no_show'] = merge_data['status'].apply(lambda x: 1 if x == 'showed up' else 0)\n",
    "\n",
    "# Confirm it's created\n",
    "print(merge_data['no_show'].value_counts())\n"
   ]
  },
  {
   "cell_type": "code",
   "execution_count": 34,
   "id": "0434bea9",
   "metadata": {
    "execution": {
     "iopub.execute_input": "2025-07-18T14:12:07.129469Z",
     "iopub.status.busy": "2025-07-18T14:12:07.129137Z",
     "iopub.status.idle": "2025-07-18T14:12:07.139618Z",
     "shell.execute_reply": "2025-07-18T14:12:07.138598Z"
    },
    "papermill": {
     "duration": 0.027123,
     "end_time": "2025-07-18T14:12:07.141173",
     "exception": false,
     "start_time": "2025-07-18T14:12:07.114050",
     "status": "completed"
    },
    "tags": []
   },
   "outputs": [],
   "source": [
    "from sklearn.model_selection import train_test_split\n",
    "\n",
    "y = merge_data['no_show']\n",
    "x = merge_data[['days_of_week', 'is_weekend', 'cost']]\n",
    "\n",
    "X_train, X_test, y_train, y_test = train_test_split(x, y, test_size=0.2, random_state=42, stratify=y)\n"
   ]
  },
  {
   "cell_type": "markdown",
   "id": "a534eef2",
   "metadata": {
    "papermill": {
     "duration": 0.01396,
     "end_time": "2025-07-18T14:12:07.169862",
     "exception": false,
     "start_time": "2025-07-18T14:12:07.155902",
     "status": "completed"
    },
    "tags": []
   },
   "source": [
    "# RandomForestClassifiers"
   ]
  },
  {
   "cell_type": "code",
   "execution_count": 35,
   "id": "af5c6efb",
   "metadata": {
    "execution": {
     "iopub.execute_input": "2025-07-18T14:12:07.199465Z",
     "iopub.status.busy": "2025-07-18T14:12:07.199125Z",
     "iopub.status.idle": "2025-07-18T14:12:07.661249Z",
     "shell.execute_reply": "2025-07-18T14:12:07.660435Z"
    },
    "papermill": {
     "duration": 0.478794,
     "end_time": "2025-07-18T14:12:07.662828",
     "exception": false,
     "start_time": "2025-07-18T14:12:07.184034",
     "status": "completed"
    },
    "tags": []
   },
   "outputs": [
    {
     "data": {
      "text/html": [
       "<style>#sk-container-id-1 {color: black;background-color: white;}#sk-container-id-1 pre{padding: 0;}#sk-container-id-1 div.sk-toggleable {background-color: white;}#sk-container-id-1 label.sk-toggleable__label {cursor: pointer;display: block;width: 100%;margin-bottom: 0;padding: 0.3em;box-sizing: border-box;text-align: center;}#sk-container-id-1 label.sk-toggleable__label-arrow:before {content: \"▸\";float: left;margin-right: 0.25em;color: #696969;}#sk-container-id-1 label.sk-toggleable__label-arrow:hover:before {color: black;}#sk-container-id-1 div.sk-estimator:hover label.sk-toggleable__label-arrow:before {color: black;}#sk-container-id-1 div.sk-toggleable__content {max-height: 0;max-width: 0;overflow: hidden;text-align: left;background-color: #f0f8ff;}#sk-container-id-1 div.sk-toggleable__content pre {margin: 0.2em;color: black;border-radius: 0.25em;background-color: #f0f8ff;}#sk-container-id-1 input.sk-toggleable__control:checked~div.sk-toggleable__content {max-height: 200px;max-width: 100%;overflow: auto;}#sk-container-id-1 input.sk-toggleable__control:checked~label.sk-toggleable__label-arrow:before {content: \"▾\";}#sk-container-id-1 div.sk-estimator input.sk-toggleable__control:checked~label.sk-toggleable__label {background-color: #d4ebff;}#sk-container-id-1 div.sk-label input.sk-toggleable__control:checked~label.sk-toggleable__label {background-color: #d4ebff;}#sk-container-id-1 input.sk-hidden--visually {border: 0;clip: rect(1px 1px 1px 1px);clip: rect(1px, 1px, 1px, 1px);height: 1px;margin: -1px;overflow: hidden;padding: 0;position: absolute;width: 1px;}#sk-container-id-1 div.sk-estimator {font-family: monospace;background-color: #f0f8ff;border: 1px dotted black;border-radius: 0.25em;box-sizing: border-box;margin-bottom: 0.5em;}#sk-container-id-1 div.sk-estimator:hover {background-color: #d4ebff;}#sk-container-id-1 div.sk-parallel-item::after {content: \"\";width: 100%;border-bottom: 1px solid gray;flex-grow: 1;}#sk-container-id-1 div.sk-label:hover label.sk-toggleable__label {background-color: #d4ebff;}#sk-container-id-1 div.sk-serial::before {content: \"\";position: absolute;border-left: 1px solid gray;box-sizing: border-box;top: 0;bottom: 0;left: 50%;z-index: 0;}#sk-container-id-1 div.sk-serial {display: flex;flex-direction: column;align-items: center;background-color: white;padding-right: 0.2em;padding-left: 0.2em;position: relative;}#sk-container-id-1 div.sk-item {position: relative;z-index: 1;}#sk-container-id-1 div.sk-parallel {display: flex;align-items: stretch;justify-content: center;background-color: white;position: relative;}#sk-container-id-1 div.sk-item::before, #sk-container-id-1 div.sk-parallel-item::before {content: \"\";position: absolute;border-left: 1px solid gray;box-sizing: border-box;top: 0;bottom: 0;left: 50%;z-index: -1;}#sk-container-id-1 div.sk-parallel-item {display: flex;flex-direction: column;z-index: 1;position: relative;background-color: white;}#sk-container-id-1 div.sk-parallel-item:first-child::after {align-self: flex-end;width: 50%;}#sk-container-id-1 div.sk-parallel-item:last-child::after {align-self: flex-start;width: 50%;}#sk-container-id-1 div.sk-parallel-item:only-child::after {width: 0;}#sk-container-id-1 div.sk-dashed-wrapped {border: 1px dashed gray;margin: 0 0.4em 0.5em 0.4em;box-sizing: border-box;padding-bottom: 0.4em;background-color: white;}#sk-container-id-1 div.sk-label label {font-family: monospace;font-weight: bold;display: inline-block;line-height: 1.2em;}#sk-container-id-1 div.sk-label-container {text-align: center;}#sk-container-id-1 div.sk-container {/* jupyter's `normalize.less` sets `[hidden] { display: none; }` but bootstrap.min.css set `[hidden] { display: none !important; }` so we also need the `!important` here to be able to override the default hidden behavior on the sphinx rendered scikit-learn.org. See: https://github.com/scikit-learn/scikit-learn/issues/21755 */display: inline-block !important;position: relative;}#sk-container-id-1 div.sk-text-repr-fallback {display: none;}</style><div id=\"sk-container-id-1\" class=\"sk-top-container\"><div class=\"sk-text-repr-fallback\"><pre>RandomForestClassifier(random_state=42)</pre><b>In a Jupyter environment, please rerun this cell to show the HTML representation or trust the notebook. <br />On GitHub, the HTML representation is unable to render, please try loading this page with nbviewer.org.</b></div><div class=\"sk-container\" hidden><div class=\"sk-item\"><div class=\"sk-estimator sk-toggleable\"><input class=\"sk-toggleable__control sk-hidden--visually\" id=\"sk-estimator-id-1\" type=\"checkbox\" checked><label for=\"sk-estimator-id-1\" class=\"sk-toggleable__label sk-toggleable__label-arrow\">RandomForestClassifier</label><div class=\"sk-toggleable__content\"><pre>RandomForestClassifier(random_state=42)</pre></div></div></div></div></div>"
      ],
      "text/plain": [
       "RandomForestClassifier(random_state=42)"
      ]
     },
     "execution_count": 35,
     "metadata": {},
     "output_type": "execute_result"
    }
   ],
   "source": [
    "from sklearn.ensemble import RandomForestClassifier  # Make sure this import is present\n",
    "\n",
    "# Initialize the model\n",
    "model = RandomForestClassifier(random_state=42)\n",
    "\n",
    "# Train the model\n",
    "model.fit(X_train, y_train)\n"
   ]
  },
  {
   "cell_type": "code",
   "execution_count": 36,
   "id": "38e04be3",
   "metadata": {
    "execution": {
     "iopub.execute_input": "2025-07-18T14:12:07.693856Z",
     "iopub.status.busy": "2025-07-18T14:12:07.693584Z",
     "iopub.status.idle": "2025-07-18T14:12:07.717248Z",
     "shell.execute_reply": "2025-07-18T14:12:07.716068Z"
    },
    "papermill": {
     "duration": 0.040994,
     "end_time": "2025-07-18T14:12:07.718808",
     "exception": false,
     "start_time": "2025-07-18T14:12:07.677814",
     "status": "completed"
    },
    "tags": []
   },
   "outputs": [
    {
     "name": "stdout",
     "output_type": "stream",
     "text": [
      "Accuracy:1.00\n",
      "              precision    recall  f1-score   support\n",
      "\n",
      "           0       1.00      1.00      1.00       201\n",
      "\n",
      "    accuracy                           1.00       201\n",
      "   macro avg       1.00      1.00      1.00       201\n",
      "weighted avg       1.00      1.00      1.00       201\n",
      "\n",
      "[[201]]\n"
     ]
    }
   ],
   "source": [
    "from sklearn.metrics import accuracy_score, classification_report, confusion_matrix\n",
    "\n",
    "#Predict on the test set\n",
    "y_pred=model.predict(X_test)\n",
    "\n",
    "#Evaluvate the Model\n",
    "accuracy=accuracy_score(y_test,y_pred)\n",
    "print(f\"Accuracy:{accuracy:.2f}\")\n",
    "\n",
    "#More Detailed  Evaluvation\n",
    "print(classification_report(y_test,y_pred))\n",
    "print(confusion_matrix(y_test,y_pred))"
   ]
  },
  {
   "cell_type": "code",
   "execution_count": 37,
   "id": "20892285",
   "metadata": {
    "execution": {
     "iopub.execute_input": "2025-07-18T14:12:07.749075Z",
     "iopub.status.busy": "2025-07-18T14:12:07.748749Z",
     "iopub.status.idle": "2025-07-18T14:12:07.755212Z",
     "shell.execute_reply": "2025-07-18T14:12:07.754383Z"
    },
    "papermill": {
     "duration": 0.023159,
     "end_time": "2025-07-18T14:12:07.756688",
     "exception": false,
     "start_time": "2025-07-18T14:12:07.733529",
     "status": "completed"
    },
    "tags": []
   },
   "outputs": [
    {
     "data": {
      "text/plain": [
       "no_show\n",
       "0    1002\n",
       "Name: count, dtype: int64"
      ]
     },
     "execution_count": 37,
     "metadata": {},
     "output_type": "execute_result"
    }
   ],
   "source": [
    "y.value_counts()"
   ]
  },
  {
   "cell_type": "markdown",
   "id": "190cd612",
   "metadata": {
    "papermill": {
     "duration": 0.0147,
     "end_time": "2025-07-18T14:12:07.786159",
     "exception": false,
     "start_time": "2025-07-18T14:12:07.771459",
     "status": "completed"
    },
    "tags": []
   },
   "source": [
    "# Visulization"
   ]
  },
  {
   "cell_type": "code",
   "execution_count": 38,
   "id": "11265c75",
   "metadata": {
    "execution": {
     "iopub.execute_input": "2025-07-18T14:12:07.817560Z",
     "iopub.status.busy": "2025-07-18T14:12:07.816890Z",
     "iopub.status.idle": "2025-07-18T14:12:08.030119Z",
     "shell.execute_reply": "2025-07-18T14:12:08.029154Z"
    },
    "papermill": {
     "duration": 0.230653,
     "end_time": "2025-07-18T14:12:08.031784",
     "exception": false,
     "start_time": "2025-07-18T14:12:07.801131",
     "status": "completed"
    },
    "tags": []
   },
   "outputs": [
    {
     "data": {
      "image/png": "[encoded data removed]",
      "text/plain": [
       "<Figure size 600x400 with 2 Axes>"
      ]
     },
     "metadata": {},
     "output_type": "display_data"
    }
   ],
   "source": [
    "import matplotlib.pyplot as plt\n",
    "import seaborn as sns\n",
    "\n",
    "# Create the confusion matrix\n",
    "cm = confusion_matrix(y_test, y_pred)\n",
    "\n",
    "# Plotting the heatmap\n",
    "plt.figure(figsize=(6,4))\n",
    "sns.heatmap(cm, annot=True, fmt='d', cmap='Blues', xticklabels=['No-Show', 'Showed Up'], yticklabels=['No-Show', 'Showed Up'])\n",
    "plt.xlabel('Predicted Label')\n",
    "plt.ylabel('True Label')\n",
    "plt.title('Confusion Matrix')\n",
    "plt.tight_layout()\n",
    "plt.show()\n"
   ]
  },
  {
   "cell_type": "markdown",
   "id": "89f3ae79",
   "metadata": {
    "papermill": {
     "duration": 0.015215,
     "end_time": "2025-07-18T14:12:08.063200",
     "exception": false,
     "start_time": "2025-07-18T14:12:08.047985",
     "status": "completed"
    },
    "tags": []
   },
   "source": [
    "                              Healthcare No-Show Prediction Report\n",
    "**Introduction**\n",
    "            This project analyzes healthcare appointment data to predict whether a patient will show up for their scheduled appointment using machine learning techniques.\n",
    "\n",
    "**Abstract**\n",
    "     Missed appointments are costly for healthcare providers. By identifying key predictors such as day of the week, weekend status, and appointment cost, this analysis helps optimize scheduling and resource allocation.\n",
    "   \n",
    "\n",
    "**Tools Used**\n",
    "Python (Pandas, Scikit-learn, Seaborn, Matplotlib)\n",
    "Kaggle Notebook\n",
    "Machine Learning Algorithms (Random Forest)\n",
    "Power BI for interactive dashboards\n",
    "\n",
    "**Steps Involved in Building the Project**\n",
    "**Data Collection:** Merged appointment, patient, doctor, billing, and treatment datasets\n",
    "appointments.info() ,billing.info() ,doctors.info(),patients.info(), treatments.info() to   merge_data()\n",
    "**Data Preprocessing**: Cleaned null values, normalized status, encoded categorical features.\n",
    "**Feature Engineering:** Extracted 'days_of_week', 'is_weekend', and treatment costs\n",
    "**Model Training:** Used Random Forest Classifier with train-test split and stratification.\n",
    "**Evaluation:** Evaluated with accuracy, confusion matrix, and classification report\n",
    "**Visualization:** Visualized prediction performance using confusion matrix heatmap\n",
    "\n",
    "\n",
    "**Conclusion**\n",
    "          The trained Random Forest model achieved high accuracy in predicting patient attendance. This solution aids in reducing missed appointments, improving clinic efficiency, and enhancing patient care.\n",
    "       \n"
   ]
  }
 ],
 "metadata": {
  "kaggle": {
   "accelerator": "none",
   "dataSources": [
    {
     "datasetId": 7554455,
     "sourceId": 12008175,
     "sourceType": "datasetVersion"
    }
   ],
   "dockerImageVersionId": 31089,
   "isGpuEnabled": false,
   "isInternetEnabled": true,
   "language": "python",
   "sourceType": "notebook"
  },
  "kernelspec": {
   "display_name": "Python 3",
   "language": "python",
   "name": "python3"
  },
  "language_info": {
   "codemirror_mode": {
    "name": "ipython",
    "version": 3
   },
   "file_extension": ".py",
   "mimetype": "text/x-python",
   "name": "python",
   "nbconvert_exporter": "python",
   "pygments_lexer": "ipython3",
   "version": "3.11.13"
  },
  "papermill": {
   "default_parameters": {},
   "duration": 15.275378,
   "end_time": "2025-07-18T14:12:08.798384",
   "environment_variables": {},
   "exception": null,
   "input_path": "__notebook__.ipynb",
   "output_path": "__notebook__.ipynb",
   "parameters": {},
   "start_time": "2025-07-18T14:11:53.523006",
   "version": "2.6.0"
  }
 },
 "nbformat": 4,
 "nbformat_minor": 5
}
