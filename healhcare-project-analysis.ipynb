{
 "cells": [
  {
   "cell_type": "code",
   "execution_count": 1,
   "id": "fa38de60",
   "metadata": {
    "_cell_guid": "b1076dfc-b9ad-4769-8c92-a6c4dae69d19",
    "_uuid": "8f2839f25d086af736a60e9eeb907d3b93b6e0e5",
    "execution": {
     "iopub.execute_input": "2025-07-10T14:39:21.756129Z",
     "iopub.status.busy": "2025-07-10T14:39:21.755028Z",
     "iopub.status.idle": "2025-07-10T14:39:23.872167Z",
     "shell.execute_reply": "2025-07-10T14:39:23.870898Z"
    },
    "papermill": {
     "duration": 2.128203,
     "end_time": "2025-07-10T14:39:23.873917",
     "exception": false,
     "start_time": "2025-07-10T14:39:21.745714",
     "status": "completed"
    },
    "tags": []
   },
   "outputs": [
    {
     "name": "stdout",
     "output_type": "stream",
     "text": [
      "/kaggle/input/hospital-management-dataset/appointments.csv\n",
      "/kaggle/input/hospital-management-dataset/billing.csv\n",
      "/kaggle/input/hospital-management-dataset/patients.csv\n",
      "/kaggle/input/hospital-management-dataset/doctors.csv\n",
      "/kaggle/input/hospital-management-dataset/treatments.csv\n"
     ]
    }
   ],
   "source": [
    "# This Python 3 environment comes with many helpful analytics libraries installed\n",
    "# It is defined by the kaggle/python Docker image: https://github.com/kaggle/docker-python\n",
    "# For example, here's several helpful packages to load\n",
    "\n",
    "import numpy as np # linear algebra\n",
    "import pandas as pd # data processing, CSV file I/O (e.g. pd.read_csv)\n",
    "\n",
    "# Input data files are available in the read-only \"../input/\" directory\n",
    "# For example, running this (by clicking run or pressing Shift+Enter) will list all files under the input directory\n",
    "\n",
    "import os\n",
    "for dirname, _, filenames in os.walk('/kaggle/input'):\n",
    "    for filename in filenames:\n",
    "        print(os.path.join(dirname, filename))\n",
    "\n",
    "# You can write up to 20GB to the current directory (/kaggle/working/) that gets preserved as output when you create a version using \"Save & Run All\" \n",
    "# You can also write temporary files to /kaggle/temp/, but they won't be saved outside of the current session"
   ]
  },
  {
   "cell_type": "markdown",
   "id": "361522e3",
   "metadata": {
    "papermill": {
     "duration": 0.005916,
     "end_time": "2025-07-10T14:39:23.886647",
     "exception": false,
     "start_time": "2025-07-10T14:39:23.880731",
     "status": "completed"
    },
    "tags": []
   },
   "source": [
    "# Import Libaries"
   ]
  },
  {
   "cell_type": "code",
   "execution_count": 2,
   "id": "7e931237",
   "metadata": {
    "execution": {
     "iopub.execute_input": "2025-07-10T14:39:23.900728Z",
     "iopub.status.busy": "2025-07-10T14:39:23.899955Z",
     "iopub.status.idle": "2025-07-10T14:39:26.067903Z",
     "shell.execute_reply": "2025-07-10T14:39:26.066809Z"
    },
    "papermill": {
     "duration": 2.176926,
     "end_time": "2025-07-10T14:39:26.069750",
     "exception": false,
     "start_time": "2025-07-10T14:39:23.892824",
     "status": "completed"
    },
    "tags": []
   },
   "outputs": [],
   "source": [
    "import pandas as pd\n",
    "import numpy as np\n",
    "import seaborn as sns\n",
    "import matplotlib.pyplot as plt\n",
    "import warnings"
   ]
  },
  {
   "cell_type": "markdown",
   "id": "c166317d",
   "metadata": {
    "papermill": {
     "duration": 0.005682,
     "end_time": "2025-07-10T14:39:26.081603",
     "exception": false,
     "start_time": "2025-07-10T14:39:26.075921",
     "status": "completed"
    },
    "tags": []
   },
   "source": [
    "# Loading Data"
   ]
  },
  {
   "cell_type": "markdown",
   "id": "2c38e7b0",
   "metadata": {
    "papermill": {
     "duration": 0.005645,
     "end_time": "2025-07-10T14:39:26.093186",
     "exception": false,
     "start_time": "2025-07-10T14:39:26.087541",
     "status": "completed"
    },
    "tags": []
   },
   "source": []
  },
  {
   "cell_type": "code",
   "execution_count": 3,
   "id": "0ac7ab54",
   "metadata": {
    "execution": {
     "iopub.execute_input": "2025-07-10T14:39:26.107817Z",
     "iopub.status.busy": "2025-07-10T14:39:26.106662Z",
     "iopub.status.idle": "2025-07-10T14:39:26.192372Z",
     "shell.execute_reply": "2025-07-10T14:39:26.191197Z"
    },
    "papermill": {
     "duration": 0.095089,
     "end_time": "2025-07-10T14:39:26.194143",
     "exception": false,
     "start_time": "2025-07-10T14:39:26.099054",
     "status": "completed"
    },
    "tags": []
   },
   "outputs": [
    {
     "name": "stdout",
     "output_type": "stream",
     "text": [
      "  appointment_id patient_id doctor_id appointment_date appointment_time  \\\n",
      "0           A001       P034      D009       2023-08-09         15:15:00   \n",
      "1           A002       P032      D004       2023-06-09         14:30:00   \n",
      "2           A003       P048      D004       2023-06-28          8:00:00   \n",
      "3           A004       P025      D006       2023-09-01          9:15:00   \n",
      "4           A005       P040      D003       2023-07-06         12:45:00   \n",
      "\n",
      "  reason_for_visit     status  \n",
      "0          Therapy  Scheduled  \n",
      "1          Therapy    No-show  \n",
      "2     Consultation  Cancelled  \n",
      "3     Consultation  Cancelled  \n",
      "4        Emergency    No-show  \n",
      "  bill_id patient_id treatment_id   bill_date   amount payment_method  \\\n",
      "0    B001       P034         T001  2023-08-09  3941.97      Insurance   \n",
      "1    B002       P032         T002  2023-06-09  4158.44      Insurance   \n",
      "2    B003       P048         T003  2023-06-28  3731.55      Insurance   \n",
      "3    B004       P025         T004  2023-09-01  4799.86      Insurance   \n",
      "4    B005       P040         T005  2023-07-06   582.05    Credit Card   \n",
      "\n",
      "  payment_status  \n",
      "0        Pending  \n",
      "1           Paid  \n",
      "2           Paid  \n",
      "3         Failed  \n",
      "4        Pending  \n",
      "  doctor_id first_name last_name specialization  phone_number  \\\n",
      "0      D001      David    Taylor    Dermatology    8322010158   \n",
      "1      D002       Jane     Davis     Pediatrics    9004382050   \n",
      "2      D003       Jane     Smith     Pediatrics    8737740598   \n",
      "3      D004      David     Jones     Pediatrics    6594221991   \n",
      "4      D005      Sarah    Taylor    Dermatology    9118538547   \n",
      "\n",
      "   years_experience   hospital_branch                         email  \n",
      "0                17   Westside Clinic  dr.david.taylor@hospital.com  \n",
      "1                24   Eastside Clinic    dr.jane.davis@hospital.com  \n",
      "2                19   Eastside Clinic    dr.jane.smith@hospital.com  \n",
      "3                28  Central Hospital   dr.david.jones@hospital.com  \n",
      "4                26  Central Hospital  dr.sarah.taylor@hospital.com  \n",
      "  patient_id first_name last_name gender date_of_birth  contact_number  \\\n",
      "0       P001      David  Williams      F    1955-06-04      6939585183   \n",
      "1       P002      Emily     Smith      F    1984-10-12      8228188767   \n",
      "2       P003      Laura     Jones      M    1977-08-21      8397029847   \n",
      "3       P004    Michael   Johnson      F    1981-02-20      9019443432   \n",
      "4       P005      David    Wilson      M    1960-06-23      7734463155   \n",
      "\n",
      "        address registration_date insurance_provider insurance_number  \\\n",
      "0   789 Pine Rd        2022-06-23       WellnessCorp        INS840674   \n",
      "1  321 Maple Dr        2022-01-15        PulseSecure        INS354079   \n",
      "2  321 Maple Dr        2022-02-07        PulseSecure        INS650929   \n",
      "3    123 Elm St        2021-03-02        HealthIndia        INS789944   \n",
      "4    123 Elm St        2021-09-29       MedCare Plus        INS788105   \n",
      "\n",
      "                      email  \n",
      "0   david.williams@mail.com  \n",
      "1      emily.smith@mail.com  \n",
      "2      laura.jones@mail.com  \n",
      "3  michael.johnson@mail.com  \n",
      "4     david.wilson@mail.com  \n",
      "  treatment_id appointment_id treatment_type         description     cost  \\\n",
      "0         T001           A001   Chemotherapy     Basic screening  3941.97   \n",
      "1         T002           A002            MRI   Advanced protocol  4158.44   \n",
      "2         T003           A003            MRI  Standard procedure  3731.55   \n",
      "3         T004           A004            MRI     Basic screening  4799.86   \n",
      "4         T005           A005            ECG  Standard procedure   582.05   \n",
      "\n",
      "  treatment_date  \n",
      "0     2023-08-09  \n",
      "1     2023-06-09  \n",
      "2     2023-06-28  \n",
      "3     2023-09-01  \n",
      "4     2023-07-06  \n"
     ]
    }
   ],
   "source": [
    "appointments=pd.read_csv(r\"/kaggle/input/hospital-management-dataset/appointments.csv\")\n",
    "billing=pd.read_csv(r\"/kaggle/input/hospital-management-dataset/billing.csv\")\n",
    "doctors=pd.read_csv(r\"/kaggle/input/hospital-management-dataset/doctors.csv\")\n",
    "patients=pd.read_csv(r\"/kaggle/input/hospital-management-dataset/patients.csv\")\n",
    "treatments=pd.read_csv(r\"/kaggle/input/hospital-management-dataset/treatments.csv\")\n",
    "print(appointments.head(5))\n",
    "print(billing.head(5))\n",
    "print(doctors.head(5))\n",
    "print(patients.head(5))\n",
    "print(treatments.head(5))"
   ]
  },
  {
   "cell_type": "code",
   "execution_count": 4,
   "id": "0ad401b1",
   "metadata": {
    "execution": {
     "iopub.execute_input": "2025-07-10T14:39:26.208558Z",
     "iopub.status.busy": "2025-07-10T14:39:26.208139Z",
     "iopub.status.idle": "2025-07-10T14:39:26.254212Z",
     "shell.execute_reply": "2025-07-10T14:39:26.253120Z"
    },
    "papermill": {
     "duration": 0.054937,
     "end_time": "2025-07-10T14:39:26.255976",
     "exception": false,
     "start_time": "2025-07-10T14:39:26.201039",
     "status": "completed"
    },
    "tags": []
   },
   "outputs": [
    {
     "name": "stdout",
     "output_type": "stream",
     "text": [
      "<class 'pandas.core.frame.DataFrame'>\n",
      "RangeIndex: 200 entries, 0 to 199\n",
      "Data columns (total 7 columns):\n",
      " #   Column            Non-Null Count  Dtype \n",
      "---  ------            --------------  ----- \n",
      " 0   appointment_id    200 non-null    object\n",
      " 1   patient_id        200 non-null    object\n",
      " 2   doctor_id         200 non-null    object\n",
      " 3   appointment_date  200 non-null    object\n",
      " 4   appointment_time  200 non-null    object\n",
      " 5   reason_for_visit  200 non-null    object\n",
      " 6   status            200 non-null    object\n",
      "dtypes: object(7)\n",
      "memory usage: 11.1+ KB\n",
      "<class 'pandas.core.frame.DataFrame'>\n",
      "RangeIndex: 200 entries, 0 to 199\n",
      "Data columns (total 7 columns):\n",
      " #   Column          Non-Null Count  Dtype  \n",
      "---  ------          --------------  -----  \n",
      " 0   bill_id         200 non-null    object \n",
      " 1   patient_id      200 non-null    object \n",
      " 2   treatment_id    200 non-null    object \n",
      " 3   bill_date       200 non-null    object \n",
      " 4   amount          200 non-null    float64\n",
      " 5   payment_method  200 non-null    object \n",
      " 6   payment_status  200 non-null    object \n",
      "dtypes: float64(1), object(6)\n",
      "memory usage: 11.1+ KB\n",
      "<class 'pandas.core.frame.DataFrame'>\n",
      "RangeIndex: 10 entries, 0 to 9\n",
      "Data columns (total 8 columns):\n",
      " #   Column            Non-Null Count  Dtype \n",
      "---  ------            --------------  ----- \n",
      " 0   doctor_id         10 non-null     object\n",
      " 1   first_name        10 non-null     object\n",
      " 2   last_name         10 non-null     object\n",
      " 3   specialization    10 non-null     object\n",
      " 4   phone_number      10 non-null     int64 \n",
      " 5   years_experience  10 non-null     int64 \n",
      " 6   hospital_branch   10 non-null     object\n",
      " 7   email             10 non-null     object\n",
      "dtypes: int64(2), object(6)\n",
      "memory usage: 772.0+ bytes\n",
      "<class 'pandas.core.frame.DataFrame'>\n",
      "RangeIndex: 50 entries, 0 to 49\n",
      "Data columns (total 11 columns):\n",
      " #   Column              Non-Null Count  Dtype \n",
      "---  ------              --------------  ----- \n",
      " 0   patient_id          50 non-null     object\n",
      " 1   first_name          50 non-null     object\n",
      " 2   last_name           50 non-null     object\n",
      " 3   gender              50 non-null     object\n",
      " 4   date_of_birth       50 non-null     object\n",
      " 5   contact_number      50 non-null     int64 \n",
      " 6   address             50 non-null     object\n",
      " 7   registration_date   50 non-null     object\n",
      " 8   insurance_provider  50 non-null     object\n",
      " 9   insurance_number    50 non-null     object\n",
      " 10  email               50 non-null     object\n",
      "dtypes: int64(1), object(10)\n",
      "memory usage: 4.4+ KB\n",
      "<class 'pandas.core.frame.DataFrame'>\n",
      "RangeIndex: 200 entries, 0 to 199\n",
      "Data columns (total 6 columns):\n",
      " #   Column          Non-Null Count  Dtype  \n",
      "---  ------          --------------  -----  \n",
      " 0   treatment_id    200 non-null    object \n",
      " 1   appointment_id  200 non-null    object \n",
      " 2   treatment_type  200 non-null    object \n",
      " 3   description     200 non-null    object \n",
      " 4   cost            200 non-null    float64\n",
      " 5   treatment_date  200 non-null    object \n",
      "dtypes: float64(1), object(5)\n",
      "memory usage: 9.5+ KB\n"
     ]
    }
   ],
   "source": [
    "appointments.info()\n",
    "billing.info()\n",
    "doctors.info()\n",
    "patients.info()\n",
    "treatments.info()"
   ]
  },
  {
   "cell_type": "code",
   "execution_count": 5,
   "id": "1fefeecc",
   "metadata": {
    "execution": {
     "iopub.execute_input": "2025-07-10T14:39:26.270471Z",
     "iopub.status.busy": "2025-07-10T14:39:26.270077Z",
     "iopub.status.idle": "2025-07-10T14:39:26.313413Z",
     "shell.execute_reply": "2025-07-10T14:39:26.312128Z"
    },
    "papermill": {
     "duration": 0.052651,
     "end_time": "2025-07-10T14:39:26.315174",
     "exception": false,
     "start_time": "2025-07-10T14:39:26.262523",
     "status": "completed"
    },
    "tags": []
   },
   "outputs": [
    {
     "data": {
      "text/html": [
       "<div>\n",
       "<style scoped>\n",
       "    .dataframe tbody tr th:only-of-type {\n",
       "        vertical-align: middle;\n",
       "    }\n",
       "\n",
       "    .dataframe tbody tr th {\n",
       "        vertical-align: top;\n",
       "    }\n",
       "\n",
       "    .dataframe thead th {\n",
       "        text-align: right;\n",
       "    }\n",
       "</style>\n",
       "<table border=\"1\" class=\"dataframe\">\n",
       "  <thead>\n",
       "    <tr style=\"text-align: right;\">\n",
       "      <th></th>\n",
       "      <th>cost</th>\n",
       "    </tr>\n",
       "  </thead>\n",
       "  <tbody>\n",
       "    <tr>\n",
       "      <th>count</th>\n",
       "      <td>200.000000</td>\n",
       "    </tr>\n",
       "    <tr>\n",
       "      <th>mean</th>\n",
       "      <td>2756.249250</td>\n",
       "    </tr>\n",
       "    <tr>\n",
       "      <th>std</th>\n",
       "      <td>1298.125308</td>\n",
       "    </tr>\n",
       "    <tr>\n",
       "      <th>min</th>\n",
       "      <td>534.030000</td>\n",
       "    </tr>\n",
       "    <tr>\n",
       "      <th>25%</th>\n",
       "      <td>1563.412500</td>\n",
       "    </tr>\n",
       "    <tr>\n",
       "      <th>50%</th>\n",
       "      <td>2828.165000</td>\n",
       "    </tr>\n",
       "    <tr>\n",
       "      <th>75%</th>\n",
       "      <td>3836.627500</td>\n",
       "    </tr>\n",
       "    <tr>\n",
       "      <th>max</th>\n",
       "      <td>4973.630000</td>\n",
       "    </tr>\n",
       "  </tbody>\n",
       "</table>\n",
       "</div>"
      ],
      "text/plain": [
       "              cost\n",
       "count   200.000000\n",
       "mean   2756.249250\n",
       "std    1298.125308\n",
       "min     534.030000\n",
       "25%    1563.412500\n",
       "50%    2828.165000\n",
       "75%    3836.627500\n",
       "max    4973.630000"
      ]
     },
     "execution_count": 5,
     "metadata": {},
     "output_type": "execute_result"
    }
   ],
   "source": [
    "appointments.describe()\n",
    "billing.describe()\n",
    "doctors.describe()\n",
    "patients.describe()\n",
    "treatments.describe()\n"
   ]
  },
  {
   "cell_type": "code",
   "execution_count": 6,
   "id": "1dd371db",
   "metadata": {
    "execution": {
     "iopub.execute_input": "2025-07-10T14:39:26.331117Z",
     "iopub.status.busy": "2025-07-10T14:39:26.330719Z",
     "iopub.status.idle": "2025-07-10T14:39:26.342476Z",
     "shell.execute_reply": "2025-07-10T14:39:26.341042Z"
    },
    "papermill": {
     "duration": 0.022095,
     "end_time": "2025-07-10T14:39:26.344715",
     "exception": false,
     "start_time": "2025-07-10T14:39:26.322620",
     "status": "completed"
    },
    "tags": []
   },
   "outputs": [
    {
     "name": "stdout",
     "output_type": "stream",
     "text": [
      "appointment_id      0\n",
      "patient_id          0\n",
      "doctor_id           0\n",
      "appointment_date    0\n",
      "appointment_time    0\n",
      "reason_for_visit    0\n",
      "status              0\n",
      "dtype: int64\n",
      "patient_id            0\n",
      "first_name            0\n",
      "last_name             0\n",
      "gender                0\n",
      "date_of_birth         0\n",
      "contact_number        0\n",
      "address               0\n",
      "registration_date     0\n",
      "insurance_provider    0\n",
      "insurance_number      0\n",
      "email                 0\n",
      "dtype: int64\n",
      "bill_id           0\n",
      "patient_id        0\n",
      "treatment_id      0\n",
      "bill_date         0\n",
      "amount            0\n",
      "payment_method    0\n",
      "payment_status    0\n",
      "dtype: int64\n",
      "doctor_id           0\n",
      "first_name          0\n",
      "last_name           0\n",
      "specialization      0\n",
      "phone_number        0\n",
      "years_experience    0\n",
      "hospital_branch     0\n",
      "email               0\n",
      "dtype: int64\n",
      "treatment_id      0\n",
      "appointment_id    0\n",
      "treatment_type    0\n",
      "description       0\n",
      "cost              0\n",
      "treatment_date    0\n",
      "dtype: int64\n"
     ]
    }
   ],
   "source": [
    "print(appointments.isnull().sum())\n",
    "print(patients.isnull().sum())\n",
    "print(billing.isnull().sum())\n",
    "print(doctors.isnull().sum())\n",
    "print(treatments.isnull().sum())"
   ]
  },
  {
   "cell_type": "code",
   "execution_count": 7,
   "id": "6c1ce30e",
   "metadata": {
    "execution": {
     "iopub.execute_input": "2025-07-10T14:39:26.360776Z",
     "iopub.status.busy": "2025-07-10T14:39:26.359940Z",
     "iopub.status.idle": "2025-07-10T14:39:26.366444Z",
     "shell.execute_reply": "2025-07-10T14:39:26.365192Z"
    },
    "papermill": {
     "duration": 0.016088,
     "end_time": "2025-07-10T14:39:26.368264",
     "exception": false,
     "start_time": "2025-07-10T14:39:26.352176",
     "status": "completed"
    },
    "tags": []
   },
   "outputs": [
    {
     "name": "stdout",
     "output_type": "stream",
     "text": [
      "appointments columns: ['appointment_id', 'patient_id', 'doctor_id', 'appointment_date', 'appointment_time', 'reason_for_visit', 'status']\n",
      "patients columns: ['patient_id', 'first_name', 'last_name', 'gender', 'date_of_birth', 'contact_number', 'address', 'registration_date', 'insurance_provider', 'insurance_number', 'email']\n",
      "billing columns: ['bill_id', 'patient_id', 'treatment_id', 'bill_date', 'amount', 'payment_method', 'payment_status']\n",
      "doctors columns: ['doctor_id', 'first_name', 'last_name', 'specialization', 'phone_number', 'years_experience', 'hospital_branch', 'email']\n",
      "treatments columns: ['treatment_id', 'appointment_id', 'treatment_type', 'description', 'cost', 'treatment_date']\n"
     ]
    }
   ],
   "source": [
    "print(\"appointments columns:\",appointments.columns.tolist())\n",
    "print(\"patients columns:\",patients.columns.tolist())\n",
    "print(\"billing columns:\",billing.columns.tolist())\n",
    "print(\"doctors columns:\",doctors.columns.tolist())\n",
    "print(\"treatments columns:\",treatments.columns.tolist())"
   ]
  },
  {
   "cell_type": "code",
   "execution_count": 8,
   "id": "db148d4c",
   "metadata": {
    "execution": {
     "iopub.execute_input": "2025-07-10T14:39:26.385828Z",
     "iopub.status.busy": "2025-07-10T14:39:26.385025Z",
     "iopub.status.idle": "2025-07-10T14:39:26.420823Z",
     "shell.execute_reply": "2025-07-10T14:39:26.419424Z"
    },
    "papermill": {
     "duration": 0.046289,
     "end_time": "2025-07-10T14:39:26.422915",
     "exception": false,
     "start_time": "2025-07-10T14:39:26.376626",
     "status": "completed"
    },
    "tags": []
   },
   "outputs": [
    {
     "name": "stdout",
     "output_type": "stream",
     "text": [
      "  appointment_id_x patient_id doctor_id appointment_date appointment_time  \\\n",
      "0             A001       P034      D009       2023-08-09         15:15:00   \n",
      "1             A001       P034      D009       2023-08-09         15:15:00   \n",
      "2             A001       P034      D009       2023-08-09         15:15:00   \n",
      "3             A002       P032      D004       2023-06-09         14:30:00   \n",
      "4             A002       P032      D004       2023-06-09         14:30:00   \n",
      "\n",
      "  reason_for_visit     status first_name_x last_name_x gender_x  ...  \\\n",
      "0          Therapy  Scheduled         Alex       Smith        F  ...   \n",
      "1          Therapy  Scheduled         Alex       Smith        F  ...   \n",
      "2          Therapy  Scheduled         Alex       Smith        F  ...   \n",
      "3          Therapy    No-show         Alex       Moore        M  ...   \n",
      "4          Therapy    No-show         Alex       Moore        M  ...   \n",
      "\n",
      "  specialization  phone_number years_experience   hospital_branch  \\\n",
      "0     Pediatrics    7387087517               26  Central Hospital   \n",
      "1     Pediatrics    7387087517               26  Central Hospital   \n",
      "2     Pediatrics    7387087517               26  Central Hospital   \n",
      "3     Pediatrics    6594221991               28  Central Hospital   \n",
      "4     Pediatrics    6594221991               28  Central Hospital   \n",
      "\n",
      "                         email appointment_id_y treatment_type  \\\n",
      "0  dr.sarah.smith@hospital.com             A001   Chemotherapy   \n",
      "1  dr.sarah.smith@hospital.com             A043          X-Ray   \n",
      "2  dr.sarah.smith@hospital.com             A093          X-Ray   \n",
      "3  dr.david.jones@hospital.com             A002            MRI   \n",
      "4  dr.david.jones@hospital.com             A047            ECG   \n",
      "\n",
      "         description     cost treatment_date  \n",
      "0    Basic screening  3941.97     2023-08-09  \n",
      "1  Advanced protocol  3207.25     2023-03-29  \n",
      "2    Basic screening  1955.17     2023-04-09  \n",
      "3  Advanced protocol  4158.44     2023-06-09  \n",
      "4  Advanced protocol  1454.20     2023-05-02  \n",
      "\n",
      "[5 rows x 45 columns]\n"
     ]
    }
   ],
   "source": [
    "merge_data = (\n",
    "    appointments\n",
    "    .merge(patients, on=\"patient_id\")\n",
    "    .merge(billing, on=\"patient_id\")\n",
    "    .merge(patients,on=\"patient_id\")\n",
    "    .merge(doctors,on=\"doctor_id\")\n",
    "    .merge(treatments,on=\"treatment_id\")\n",
    ")\n",
    "\n",
    "print(merge_data.head(5))"
   ]
  },
  {
   "cell_type": "markdown",
   "id": "c58183f1",
   "metadata": {
    "papermill": {
     "duration": 0.006744,
     "end_time": "2025-07-10T14:39:26.436998",
     "exception": false,
     "start_time": "2025-07-10T14:39:26.430254",
     "status": "completed"
    },
    "tags": []
   },
   "source": [
    "# Feautre Engineering"
   ]
  },
  {
   "cell_type": "code",
   "execution_count": 9,
   "id": "fa36b4e3",
   "metadata": {
    "execution": {
     "iopub.execute_input": "2025-07-10T14:39:26.453018Z",
     "iopub.status.busy": "2025-07-10T14:39:26.452211Z",
     "iopub.status.idle": "2025-07-10T14:39:26.461449Z",
     "shell.execute_reply": "2025-07-10T14:39:26.460362Z"
    },
    "papermill": {
     "duration": 0.018904,
     "end_time": "2025-07-10T14:39:26.462923",
     "exception": false,
     "start_time": "2025-07-10T14:39:26.444019",
     "status": "completed"
    },
    "tags": []
   },
   "outputs": [
    {
     "name": "stdout",
     "output_type": "stream",
     "text": [
      "appointment_id_x        0\n",
      "patient_id              0\n",
      "doctor_id               0\n",
      "appointment_date        0\n",
      "appointment_time        0\n",
      "reason_for_visit        0\n",
      "status                  0\n",
      "first_name_x            0\n",
      "last_name_x             0\n",
      "gender_x                0\n",
      "date_of_birth_x         0\n",
      "contact_number_x        0\n",
      "address_x               0\n",
      "registration_date_x     0\n",
      "insurance_provider_x    0\n",
      "insurance_number_x      0\n",
      "email_x                 0\n",
      "bill_id                 0\n",
      "treatment_id            0\n",
      "bill_date               0\n",
      "amount                  0\n",
      "payment_method          0\n",
      "payment_status          0\n",
      "first_name_y            0\n",
      "last_name_y             0\n",
      "gender_y                0\n",
      "date_of_birth_y         0\n",
      "contact_number_y        0\n",
      "address_y               0\n",
      "registration_date_y     0\n",
      "insurance_provider_y    0\n",
      "insurance_number_y      0\n",
      "email_y                 0\n",
      "first_name              0\n",
      "last_name               0\n",
      "specialization          0\n",
      "phone_number            0\n",
      "years_experience        0\n",
      "hospital_branch         0\n",
      "email                   0\n",
      "appointment_id_y        0\n",
      "treatment_type          0\n",
      "description             0\n",
      "cost                    0\n",
      "treatment_date          0\n",
      "dtype: int64\n"
     ]
    }
   ],
   "source": [
    "print(merge_data.isnull().sum())"
   ]
  },
  {
   "cell_type": "code",
   "execution_count": 10,
   "id": "5f1bdac6",
   "metadata": {
    "execution": {
     "iopub.execute_input": "2025-07-10T14:39:26.478793Z",
     "iopub.status.busy": "2025-07-10T14:39:26.478475Z",
     "iopub.status.idle": "2025-07-10T14:39:26.484692Z",
     "shell.execute_reply": "2025-07-10T14:39:26.483515Z"
    },
    "papermill": {
     "duration": 0.01591,
     "end_time": "2025-07-10T14:39:26.486185",
     "exception": false,
     "start_time": "2025-07-10T14:39:26.470275",
     "status": "completed"
    },
    "tags": []
   },
   "outputs": [
    {
     "name": "stdout",
     "output_type": "stream",
     "text": [
      "Index(['appointment_id_x', 'patient_id', 'doctor_id', 'appointment_date',\n",
      "       'appointment_time', 'reason_for_visit', 'status', 'first_name_x',\n",
      "       'last_name_x', 'gender_x', 'date_of_birth_x', 'contact_number_x',\n",
      "       'address_x', 'registration_date_x', 'insurance_provider_x',\n",
      "       'insurance_number_x', 'email_x', 'bill_id', 'treatment_id', 'bill_date',\n",
      "       'amount', 'payment_method', 'payment_status', 'first_name_y',\n",
      "       'last_name_y', 'gender_y', 'date_of_birth_y', 'contact_number_y',\n",
      "       'address_y', 'registration_date_y', 'insurance_provider_y',\n",
      "       'insurance_number_y', 'email_y', 'first_name', 'last_name',\n",
      "       'specialization', 'phone_number', 'years_experience', 'hospital_branch',\n",
      "       'email', 'appointment_id_y', 'treatment_type', 'description', 'cost',\n",
      "       'treatment_date'],\n",
      "      dtype='object')\n"
     ]
    }
   ],
   "source": [
    "print(merge_data.columns)"
   ]
  },
  {
   "cell_type": "code",
   "execution_count": 11,
   "id": "70b58367",
   "metadata": {
    "execution": {
     "iopub.execute_input": "2025-07-10T14:39:26.503174Z",
     "iopub.status.busy": "2025-07-10T14:39:26.502376Z",
     "iopub.status.idle": "2025-07-10T14:39:26.530647Z",
     "shell.execute_reply": "2025-07-10T14:39:26.529480Z"
    },
    "papermill": {
     "duration": 0.03888,
     "end_time": "2025-07-10T14:39:26.532371",
     "exception": false,
     "start_time": "2025-07-10T14:39:26.493491",
     "status": "completed"
    },
    "tags": []
   },
   "outputs": [
    {
     "data": {
      "text/html": [
       "<div>\n",
       "<style scoped>\n",
       "    .dataframe tbody tr th:only-of-type {\n",
       "        vertical-align: middle;\n",
       "    }\n",
       "\n",
       "    .dataframe tbody tr th {\n",
       "        vertical-align: top;\n",
       "    }\n",
       "\n",
       "    .dataframe thead th {\n",
       "        text-align: right;\n",
       "    }\n",
       "</style>\n",
       "<table border=\"1\" class=\"dataframe\">\n",
       "  <thead>\n",
       "    <tr style=\"text-align: right;\">\n",
       "      <th></th>\n",
       "      <th>appointment_id_x</th>\n",
       "      <th>patient_id</th>\n",
       "      <th>doctor_id</th>\n",
       "      <th>appointment_date</th>\n",
       "      <th>appointment_time</th>\n",
       "      <th>reason_for_visit</th>\n",
       "      <th>status</th>\n",
       "      <th>first_name_x</th>\n",
       "      <th>last_name_x</th>\n",
       "      <th>gender_x</th>\n",
       "      <th>...</th>\n",
       "      <th>specialization</th>\n",
       "      <th>phone_number</th>\n",
       "      <th>years_experience</th>\n",
       "      <th>hospital_branch</th>\n",
       "      <th>email</th>\n",
       "      <th>appointment_id_y</th>\n",
       "      <th>treatment_type</th>\n",
       "      <th>description</th>\n",
       "      <th>cost</th>\n",
       "      <th>treatment_date</th>\n",
       "    </tr>\n",
       "  </thead>\n",
       "  <tbody>\n",
       "    <tr>\n",
       "      <th>0</th>\n",
       "      <td>A001</td>\n",
       "      <td>P034</td>\n",
       "      <td>D009</td>\n",
       "      <td>2023-08-09</td>\n",
       "      <td>15:15:00</td>\n",
       "      <td>Therapy</td>\n",
       "      <td>Scheduled</td>\n",
       "      <td>Alex</td>\n",
       "      <td>Smith</td>\n",
       "      <td>F</td>\n",
       "      <td>...</td>\n",
       "      <td>Pediatrics</td>\n",
       "      <td>7387087517</td>\n",
       "      <td>26</td>\n",
       "      <td>Central Hospital</td>\n",
       "      <td>dr.sarah.smith@hospital.com</td>\n",
       "      <td>A001</td>\n",
       "      <td>Chemotherapy</td>\n",
       "      <td>Basic screening</td>\n",
       "      <td>3941.97</td>\n",
       "      <td>2023-08-09</td>\n",
       "    </tr>\n",
       "    <tr>\n",
       "      <th>1</th>\n",
       "      <td>A001</td>\n",
       "      <td>P034</td>\n",
       "      <td>D009</td>\n",
       "      <td>2023-08-09</td>\n",
       "      <td>15:15:00</td>\n",
       "      <td>Therapy</td>\n",
       "      <td>Scheduled</td>\n",
       "      <td>Alex</td>\n",
       "      <td>Smith</td>\n",
       "      <td>F</td>\n",
       "      <td>...</td>\n",
       "      <td>Pediatrics</td>\n",
       "      <td>7387087517</td>\n",
       "      <td>26</td>\n",
       "      <td>Central Hospital</td>\n",
       "      <td>dr.sarah.smith@hospital.com</td>\n",
       "      <td>A043</td>\n",
       "      <td>X-Ray</td>\n",
       "      <td>Advanced protocol</td>\n",
       "      <td>3207.25</td>\n",
       "      <td>2023-03-29</td>\n",
       "    </tr>\n",
       "    <tr>\n",
       "      <th>2</th>\n",
       "      <td>A001</td>\n",
       "      <td>P034</td>\n",
       "      <td>D009</td>\n",
       "      <td>2023-08-09</td>\n",
       "      <td>15:15:00</td>\n",
       "      <td>Therapy</td>\n",
       "      <td>Scheduled</td>\n",
       "      <td>Alex</td>\n",
       "      <td>Smith</td>\n",
       "      <td>F</td>\n",
       "      <td>...</td>\n",
       "      <td>Pediatrics</td>\n",
       "      <td>7387087517</td>\n",
       "      <td>26</td>\n",
       "      <td>Central Hospital</td>\n",
       "      <td>dr.sarah.smith@hospital.com</td>\n",
       "      <td>A093</td>\n",
       "      <td>X-Ray</td>\n",
       "      <td>Basic screening</td>\n",
       "      <td>1955.17</td>\n",
       "      <td>2023-04-09</td>\n",
       "    </tr>\n",
       "    <tr>\n",
       "      <th>3</th>\n",
       "      <td>A002</td>\n",
       "      <td>P032</td>\n",
       "      <td>D004</td>\n",
       "      <td>2023-06-09</td>\n",
       "      <td>14:30:00</td>\n",
       "      <td>Therapy</td>\n",
       "      <td>No-show</td>\n",
       "      <td>Alex</td>\n",
       "      <td>Moore</td>\n",
       "      <td>M</td>\n",
       "      <td>...</td>\n",
       "      <td>Pediatrics</td>\n",
       "      <td>6594221991</td>\n",
       "      <td>28</td>\n",
       "      <td>Central Hospital</td>\n",
       "      <td>dr.david.jones@hospital.com</td>\n",
       "      <td>A002</td>\n",
       "      <td>MRI</td>\n",
       "      <td>Advanced protocol</td>\n",
       "      <td>4158.44</td>\n",
       "      <td>2023-06-09</td>\n",
       "    </tr>\n",
       "    <tr>\n",
       "      <th>4</th>\n",
       "      <td>A002</td>\n",
       "      <td>P032</td>\n",
       "      <td>D004</td>\n",
       "      <td>2023-06-09</td>\n",
       "      <td>14:30:00</td>\n",
       "      <td>Therapy</td>\n",
       "      <td>No-show</td>\n",
       "      <td>Alex</td>\n",
       "      <td>Moore</td>\n",
       "      <td>M</td>\n",
       "      <td>...</td>\n",
       "      <td>Pediatrics</td>\n",
       "      <td>6594221991</td>\n",
       "      <td>28</td>\n",
       "      <td>Central Hospital</td>\n",
       "      <td>dr.david.jones@hospital.com</td>\n",
       "      <td>A047</td>\n",
       "      <td>ECG</td>\n",
       "      <td>Advanced protocol</td>\n",
       "      <td>1454.20</td>\n",
       "      <td>2023-05-02</td>\n",
       "    </tr>\n",
       "    <tr>\n",
       "      <th>...</th>\n",
       "      <td>...</td>\n",
       "      <td>...</td>\n",
       "      <td>...</td>\n",
       "      <td>...</td>\n",
       "      <td>...</td>\n",
       "      <td>...</td>\n",
       "      <td>...</td>\n",
       "      <td>...</td>\n",
       "      <td>...</td>\n",
       "      <td>...</td>\n",
       "      <td>...</td>\n",
       "      <td>...</td>\n",
       "      <td>...</td>\n",
       "      <td>...</td>\n",
       "      <td>...</td>\n",
       "      <td>...</td>\n",
       "      <td>...</td>\n",
       "      <td>...</td>\n",
       "      <td>...</td>\n",
       "      <td>...</td>\n",
       "      <td>...</td>\n",
       "    </tr>\n",
       "    <tr>\n",
       "      <th>997</th>\n",
       "      <td>A199</td>\n",
       "      <td>P017</td>\n",
       "      <td>D001</td>\n",
       "      <td>2023-05-01</td>\n",
       "      <td>12:45:00</td>\n",
       "      <td>Follow-up</td>\n",
       "      <td>Completed</td>\n",
       "      <td>Jane</td>\n",
       "      <td>Jones</td>\n",
       "      <td>M</td>\n",
       "      <td>...</td>\n",
       "      <td>Dermatology</td>\n",
       "      <td>8322010158</td>\n",
       "      <td>17</td>\n",
       "      <td>Westside Clinic</td>\n",
       "      <td>dr.david.taylor@hospital.com</td>\n",
       "      <td>A199</td>\n",
       "      <td>Chemotherapy</td>\n",
       "      <td>Basic screening</td>\n",
       "      <td>1472.17</td>\n",
       "      <td>2023-05-01</td>\n",
       "    </tr>\n",
       "    <tr>\n",
       "      <th>998</th>\n",
       "      <td>A200</td>\n",
       "      <td>P007</td>\n",
       "      <td>D005</td>\n",
       "      <td>2023-12-30</td>\n",
       "      <td>10:15:00</td>\n",
       "      <td>Consultation</td>\n",
       "      <td>Cancelled</td>\n",
       "      <td>Alex</td>\n",
       "      <td>Johnson</td>\n",
       "      <td>F</td>\n",
       "      <td>...</td>\n",
       "      <td>Dermatology</td>\n",
       "      <td>9118538547</td>\n",
       "      <td>26</td>\n",
       "      <td>Central Hospital</td>\n",
       "      <td>dr.sarah.taylor@hospital.com</td>\n",
       "      <td>A095</td>\n",
       "      <td>X-Ray</td>\n",
       "      <td>Advanced protocol</td>\n",
       "      <td>2097.48</td>\n",
       "      <td>2023-05-09</td>\n",
       "    </tr>\n",
       "    <tr>\n",
       "      <th>999</th>\n",
       "      <td>A200</td>\n",
       "      <td>P007</td>\n",
       "      <td>D005</td>\n",
       "      <td>2023-12-30</td>\n",
       "      <td>10:15:00</td>\n",
       "      <td>Consultation</td>\n",
       "      <td>Cancelled</td>\n",
       "      <td>Alex</td>\n",
       "      <td>Johnson</td>\n",
       "      <td>F</td>\n",
       "      <td>...</td>\n",
       "      <td>Dermatology</td>\n",
       "      <td>9118538547</td>\n",
       "      <td>26</td>\n",
       "      <td>Central Hospital</td>\n",
       "      <td>dr.sarah.taylor@hospital.com</td>\n",
       "      <td>A145</td>\n",
       "      <td>X-Ray</td>\n",
       "      <td>Advanced protocol</td>\n",
       "      <td>2120.61</td>\n",
       "      <td>2023-11-11</td>\n",
       "    </tr>\n",
       "    <tr>\n",
       "      <th>1000</th>\n",
       "      <td>A200</td>\n",
       "      <td>P007</td>\n",
       "      <td>D005</td>\n",
       "      <td>2023-12-30</td>\n",
       "      <td>10:15:00</td>\n",
       "      <td>Consultation</td>\n",
       "      <td>Cancelled</td>\n",
       "      <td>Alex</td>\n",
       "      <td>Johnson</td>\n",
       "      <td>F</td>\n",
       "      <td>...</td>\n",
       "      <td>Dermatology</td>\n",
       "      <td>9118538547</td>\n",
       "      <td>26</td>\n",
       "      <td>Central Hospital</td>\n",
       "      <td>dr.sarah.taylor@hospital.com</td>\n",
       "      <td>A180</td>\n",
       "      <td>Chemotherapy</td>\n",
       "      <td>Advanced protocol</td>\n",
       "      <td>3228.14</td>\n",
       "      <td>2023-01-07</td>\n",
       "    </tr>\n",
       "    <tr>\n",
       "      <th>1001</th>\n",
       "      <td>A200</td>\n",
       "      <td>P007</td>\n",
       "      <td>D005</td>\n",
       "      <td>2023-12-30</td>\n",
       "      <td>10:15:00</td>\n",
       "      <td>Consultation</td>\n",
       "      <td>Cancelled</td>\n",
       "      <td>Alex</td>\n",
       "      <td>Johnson</td>\n",
       "      <td>F</td>\n",
       "      <td>...</td>\n",
       "      <td>Dermatology</td>\n",
       "      <td>9118538547</td>\n",
       "      <td>26</td>\n",
       "      <td>Central Hospital</td>\n",
       "      <td>dr.sarah.taylor@hospital.com</td>\n",
       "      <td>A200</td>\n",
       "      <td>X-Ray</td>\n",
       "      <td>Basic screening</td>\n",
       "      <td>3288.15</td>\n",
       "      <td>2023-12-30</td>\n",
       "    </tr>\n",
       "  </tbody>\n",
       "</table>\n",
       "<p>1002 rows × 45 columns</p>\n",
       "</div>"
      ],
      "text/plain": [
       "     appointment_id_x patient_id doctor_id appointment_date appointment_time  \\\n",
       "0                A001       P034      D009       2023-08-09         15:15:00   \n",
       "1                A001       P034      D009       2023-08-09         15:15:00   \n",
       "2                A001       P034      D009       2023-08-09         15:15:00   \n",
       "3                A002       P032      D004       2023-06-09         14:30:00   \n",
       "4                A002       P032      D004       2023-06-09         14:30:00   \n",
       "...               ...        ...       ...              ...              ...   \n",
       "997              A199       P017      D001       2023-05-01         12:45:00   \n",
       "998              A200       P007      D005       2023-12-30         10:15:00   \n",
       "999              A200       P007      D005       2023-12-30         10:15:00   \n",
       "1000             A200       P007      D005       2023-12-30         10:15:00   \n",
       "1001             A200       P007      D005       2023-12-30         10:15:00   \n",
       "\n",
       "     reason_for_visit     status first_name_x last_name_x gender_x  ...  \\\n",
       "0             Therapy  Scheduled         Alex       Smith        F  ...   \n",
       "1             Therapy  Scheduled         Alex       Smith        F  ...   \n",
       "2             Therapy  Scheduled         Alex       Smith        F  ...   \n",
       "3             Therapy    No-show         Alex       Moore        M  ...   \n",
       "4             Therapy    No-show         Alex       Moore        M  ...   \n",
       "...               ...        ...          ...         ...      ...  ...   \n",
       "997         Follow-up  Completed         Jane       Jones        M  ...   \n",
       "998      Consultation  Cancelled         Alex     Johnson        F  ...   \n",
       "999      Consultation  Cancelled         Alex     Johnson        F  ...   \n",
       "1000     Consultation  Cancelled         Alex     Johnson        F  ...   \n",
       "1001     Consultation  Cancelled         Alex     Johnson        F  ...   \n",
       "\n",
       "     specialization  phone_number years_experience   hospital_branch  \\\n",
       "0        Pediatrics    7387087517               26  Central Hospital   \n",
       "1        Pediatrics    7387087517               26  Central Hospital   \n",
       "2        Pediatrics    7387087517               26  Central Hospital   \n",
       "3        Pediatrics    6594221991               28  Central Hospital   \n",
       "4        Pediatrics    6594221991               28  Central Hospital   \n",
       "...             ...           ...              ...               ...   \n",
       "997     Dermatology    8322010158               17   Westside Clinic   \n",
       "998     Dermatology    9118538547               26  Central Hospital   \n",
       "999     Dermatology    9118538547               26  Central Hospital   \n",
       "1000    Dermatology    9118538547               26  Central Hospital   \n",
       "1001    Dermatology    9118538547               26  Central Hospital   \n",
       "\n",
       "                             email appointment_id_y treatment_type  \\\n",
       "0      dr.sarah.smith@hospital.com             A001   Chemotherapy   \n",
       "1      dr.sarah.smith@hospital.com             A043          X-Ray   \n",
       "2      dr.sarah.smith@hospital.com             A093          X-Ray   \n",
       "3      dr.david.jones@hospital.com             A002            MRI   \n",
       "4      dr.david.jones@hospital.com             A047            ECG   \n",
       "...                            ...              ...            ...   \n",
       "997   dr.david.taylor@hospital.com             A199   Chemotherapy   \n",
       "998   dr.sarah.taylor@hospital.com             A095          X-Ray   \n",
       "999   dr.sarah.taylor@hospital.com             A145          X-Ray   \n",
       "1000  dr.sarah.taylor@hospital.com             A180   Chemotherapy   \n",
       "1001  dr.sarah.taylor@hospital.com             A200          X-Ray   \n",
       "\n",
       "            description     cost treatment_date  \n",
       "0       Basic screening  3941.97     2023-08-09  \n",
       "1     Advanced protocol  3207.25     2023-03-29  \n",
       "2       Basic screening  1955.17     2023-04-09  \n",
       "3     Advanced protocol  4158.44     2023-06-09  \n",
       "4     Advanced protocol  1454.20     2023-05-02  \n",
       "...                 ...      ...            ...  \n",
       "997     Basic screening  1472.17     2023-05-01  \n",
       "998   Advanced protocol  2097.48     2023-05-09  \n",
       "999   Advanced protocol  2120.61     2023-11-11  \n",
       "1000  Advanced protocol  3228.14     2023-01-07  \n",
       "1001    Basic screening  3288.15     2023-12-30  \n",
       "\n",
       "[1002 rows x 45 columns]"
      ]
     },
     "execution_count": 11,
     "metadata": {},
     "output_type": "execute_result"
    }
   ],
   "source": [
    "merge_data.fillna(0)"
   ]
  },
  {
   "cell_type": "code",
   "execution_count": 12,
   "id": "c78a46f8",
   "metadata": {
    "execution": {
     "iopub.execute_input": "2025-07-10T14:39:26.548902Z",
     "iopub.status.busy": "2025-07-10T14:39:26.548534Z",
     "iopub.status.idle": "2025-07-10T14:39:26.555756Z",
     "shell.execute_reply": "2025-07-10T14:39:26.554543Z"
    },
    "papermill": {
     "duration": 0.017072,
     "end_time": "2025-07-10T14:39:26.557256",
     "exception": false,
     "start_time": "2025-07-10T14:39:26.540184",
     "status": "completed"
    },
    "tags": []
   },
   "outputs": [
    {
     "name": "stdout",
     "output_type": "stream",
     "text": [
      "status\n",
      "No-show      283\n",
      "Scheduled    259\n",
      "Cancelled    251\n",
      "Completed    209\n",
      "Name: count, dtype: int64\n"
     ]
    }
   ],
   "source": [
    "print(merge_data['status'].value_counts())\n"
   ]
  },
  {
   "cell_type": "markdown",
   "id": "b2e42959",
   "metadata": {
    "papermill": {
     "duration": 0.006868,
     "end_time": "2025-07-10T14:39:26.571732",
     "exception": false,
     "start_time": "2025-07-10T14:39:26.564864",
     "status": "completed"
    },
    "tags": []
   },
   "source": [
    "# Data Framing For Time"
   ]
  },
  {
   "cell_type": "code",
   "execution_count": 13,
   "id": "a69df43b",
   "metadata": {
    "execution": {
     "iopub.execute_input": "2025-07-10T14:39:26.587256Z",
     "iopub.status.busy": "2025-07-10T14:39:26.586889Z",
     "iopub.status.idle": "2025-07-10T14:39:26.712008Z",
     "shell.execute_reply": "2025-07-10T14:39:26.710819Z"
    },
    "papermill": {
     "duration": 0.134891,
     "end_time": "2025-07-10T14:39:26.713752",
     "exception": false,
     "start_time": "2025-07-10T14:39:26.578861",
     "status": "completed"
    },
    "tags": []
   },
   "outputs": [
    {
     "name": "stdout",
     "output_type": "stream",
     "text": [
      "  appointment_date  year  day  days_of_week  hour  is_weekend  quarter\n",
      "0       2023-08-09  2023    9             2     0       False        3\n",
      "1       2023-08-09  2023    9             2     0       False        3\n",
      "2       2023-08-09  2023    9             2     0       False        3\n",
      "3       2023-06-09  2023    9             4     0       False        2\n",
      "4       2023-06-09  2023    9             4     0       False        2\n"
     ]
    }
   ],
   "source": [
    "merge_data[\"appointment_date\"]=pd.to_datetime(merge_data[\"appointment_date\"])\n",
    "merge_data[\"year\"]=merge_data[\"appointment_date\"].dt.year\n",
    "merge_data[\"month\"]=merge_data[\"appointment_date\"].dt.month\n",
    "merge_data[\"day\"]=merge_data[\"appointment_date\"].dt.day\n",
    "merge_data[\"days_of_week\"]=merge_data[\"appointment_date\"].dt.dayofweek\n",
    "merge_data[\"hour\"]=merge_data[\"appointment_date\"].dt.hour\n",
    "merge_data[\"is_weekend\"]=merge_data[\"days_of_week\"]>=5\n",
    "merge_data[\"quarter\"]=merge_data[\"appointment_date\"].dt.quarter\n",
    "\n",
    "print(merge_data[['appointment_date','year','day','days_of_week','hour','is_weekend','quarter']].head())"
   ]
  },
  {
   "cell_type": "markdown",
   "id": "9c364f5e",
   "metadata": {
    "papermill": {
     "duration": 0.007637,
     "end_time": "2025-07-10T14:39:26.729667",
     "exception": false,
     "start_time": "2025-07-10T14:39:26.722030",
     "status": "completed"
    },
    "tags": []
   },
   "source": [
    "Seasonal Calculation-Analysis"
   ]
  },
  {
   "cell_type": "code",
   "execution_count": 14,
   "id": "5106ae83",
   "metadata": {
    "execution": {
     "iopub.execute_input": "2025-07-10T14:39:26.748184Z",
     "iopub.status.busy": "2025-07-10T14:39:26.747200Z",
     "iopub.status.idle": "2025-07-10T14:39:26.755081Z",
     "shell.execute_reply": "2025-07-10T14:39:26.753642Z"
    },
    "papermill": {
     "duration": 0.01935,
     "end_time": "2025-07-10T14:39:26.757027",
     "exception": false,
     "start_time": "2025-07-10T14:39:26.737677",
     "status": "completed"
    },
    "tags": []
   },
   "outputs": [],
   "source": [
    "def get_season(month):\n",
    "    if month in[12,1,2]:\n",
    "        return \"winter\"\n",
    "    elif month in[3,4,5]:\n",
    "        return \"Summer\"\n",
    "    elif month in [6,7,8]:\n",
    "        return \"spring\"\n",
    "    else:\n",
    "        return \"Autumn\"\n",
    "\n",
    "merge_data['season']=merge_data[\"appointment_date\"].dt.month.apply(get_season)"
   ]
  },
  {
   "cell_type": "code",
   "execution_count": 15,
   "id": "435012c6",
   "metadata": {
    "execution": {
     "iopub.execute_input": "2025-07-10T14:39:26.774657Z",
     "iopub.status.busy": "2025-07-10T14:39:26.774304Z",
     "iopub.status.idle": "2025-07-10T14:39:26.781318Z",
     "shell.execute_reply": "2025-07-10T14:39:26.780186Z"
    },
    "papermill": {
     "duration": 0.017784,
     "end_time": "2025-07-10T14:39:26.783049",
     "exception": false,
     "start_time": "2025-07-10T14:39:26.765265",
     "status": "completed"
    },
    "tags": []
   },
   "outputs": [
    {
     "name": "stdout",
     "output_type": "stream",
     "text": [
      "season\n",
      "Summer    309\n",
      "spring    233\n",
      "winter    233\n",
      "Autumn    227\n",
      "Name: count, dtype: int64\n"
     ]
    }
   ],
   "source": [
    "print(merge_data['season'].value_counts())"
   ]
  },
  {
   "cell_type": "code",
   "execution_count": 16,
   "id": "ea5af0fc",
   "metadata": {
    "execution": {
     "iopub.execute_input": "2025-07-10T14:39:26.801474Z",
     "iopub.status.busy": "2025-07-10T14:39:26.799994Z",
     "iopub.status.idle": "2025-07-10T14:39:26.809569Z",
     "shell.execute_reply": "2025-07-10T14:39:26.808514Z"
    },
    "papermill": {
     "duration": 0.020091,
     "end_time": "2025-07-10T14:39:26.811269",
     "exception": false,
     "start_time": "2025-07-10T14:39:26.791178",
     "status": "completed"
    },
    "tags": []
   },
   "outputs": [
    {
     "name": "stdout",
     "output_type": "stream",
     "text": [
      "days\n",
      "Weekend     882\n",
      "weekdays    120\n",
      "Name: count, dtype: int64\n"
     ]
    }
   ],
   "source": [
    "def days_of_week(day):\n",
    "    if day in[1,2,3,4,5]:\n",
    "        return \"weekdays\"\n",
    "    else:\n",
    "        return \"Weekend\"\n",
    "\n",
    "merge_data['days']=merge_data[\"appointment_date\"].dt.day.apply(days_of_week)\n",
    "\n",
    "print(merge_data['days'].value_counts())"
   ]
  },
  {
   "cell_type": "code",
   "execution_count": 17,
   "id": "e899c659",
   "metadata": {
    "execution": {
     "iopub.execute_input": "2025-07-10T14:39:26.829244Z",
     "iopub.status.busy": "2025-07-10T14:39:26.828886Z",
     "iopub.status.idle": "2025-07-10T14:39:26.837856Z",
     "shell.execute_reply": "2025-07-10T14:39:26.836765Z"
    },
    "papermill": {
     "duration": 0.020129,
     "end_time": "2025-07-10T14:39:26.839491",
     "exception": false,
     "start_time": "2025-07-10T14:39:26.819362",
     "status": "completed"
    },
    "tags": []
   },
   "outputs": [
    {
     "name": "stdout",
     "output_type": "stream",
     "text": [
      "year\n",
      "2nd half    526\n",
      "1st half    476\n",
      "Name: count, dtype: int64\n"
     ]
    }
   ],
   "source": [
    "def year(year):\n",
    "    if year in[1,2,3,4,5]:\n",
    "        return \"1st half\"\n",
    "    else:\n",
    "        return \"2nd half\"\n",
    "\n",
    "merge_data['year']=merge_data[\"appointment_date\"].dt.month.apply(year)\n",
    "\n",
    "print(merge_data['year'].value_counts())"
   ]
  },
  {
   "cell_type": "code",
   "execution_count": 18,
   "id": "edf53b1e",
   "metadata": {
    "execution": {
     "iopub.execute_input": "2025-07-10T14:39:26.857005Z",
     "iopub.status.busy": "2025-07-10T14:39:26.856676Z",
     "iopub.status.idle": "2025-07-10T14:39:26.865385Z",
     "shell.execute_reply": "2025-07-10T14:39:26.864151Z"
    },
    "papermill": {
     "duration": 0.019312,
     "end_time": "2025-07-10T14:39:26.866931",
     "exception": false,
     "start_time": "2025-07-10T14:39:26.847619",
     "status": "completed"
    },
    "tags": []
   },
   "outputs": [
    {
     "name": "stdout",
     "output_type": "stream",
     "text": [
      "year\n",
      "2nd half    882\n",
      "1st half    120\n",
      "Name: count, dtype: int64\n"
     ]
    }
   ],
   "source": [
    "def is_weekend(is_weekend):\n",
    "    if is_weekend in[6,7]:\n",
    "        return \"weekend\"\n",
    "    else:\n",
    "        return \"weekdays\"\n",
    "\n",
    "merge_data['year']=merge_data[\"appointment_date\"].dt.day.apply(year)\n",
    "\n",
    "print(merge_data['year'].value_counts())"
   ]
  },
  {
   "cell_type": "markdown",
   "id": "8d1a3d32",
   "metadata": {
    "papermill": {
     "duration": 0.007578,
     "end_time": "2025-07-10T14:39:26.882711",
     "exception": false,
     "start_time": "2025-07-10T14:39:26.875133",
     "status": "completed"
    },
    "tags": []
   },
   "source": [
    "# EDA"
   ]
  },
  {
   "cell_type": "code",
   "execution_count": 19,
   "id": "0b2366f5",
   "metadata": {
    "execution": {
     "iopub.execute_input": "2025-07-10T14:39:26.900412Z",
     "iopub.status.busy": "2025-07-10T14:39:26.900028Z",
     "iopub.status.idle": "2025-07-10T14:39:27.249036Z",
     "shell.execute_reply": "2025-07-10T14:39:27.247843Z"
    },
    "papermill": {
     "duration": 0.360077,
     "end_time": "2025-07-10T14:39:27.250684",
     "exception": false,
     "start_time": "2025-07-10T14:39:26.890607",
     "status": "completed"
    },
    "tags": []
   },
   "outputs": [
    {
     "data": {
      "image/png": "[encoded data removed]",
      "text/plain": [
       "<Figure size 640x480 with 1 Axes>"
      ]
     },
     "metadata": {},
     "output_type": "display_data"
    }
   ],
   "source": [
    "merge_data['season'].value_counts().plot(kind='bar', color='blue')\n",
    "plt.title(\"Number of Appointments by Season\")\n",
    "plt.xlabel(\"Season\")\n",
    "plt.ylabel(\"Count\")\n",
    "plt.show()\n"
   ]
  },
  {
   "cell_type": "code",
   "execution_count": 20,
   "id": "71bd7cac",
   "metadata": {
    "execution": {
     "iopub.execute_input": "2025-07-10T14:39:27.268351Z",
     "iopub.status.busy": "2025-07-10T14:39:27.267966Z",
     "iopub.status.idle": "2025-07-10T14:39:27.462048Z",
     "shell.execute_reply": "2025-07-10T14:39:27.460959Z"
    },
    "papermill": {
     "duration": 0.204664,
     "end_time": "2025-07-10T14:39:27.463702",
     "exception": false,
     "start_time": "2025-07-10T14:39:27.259038",
     "status": "completed"
    },
    "tags": []
   },
   "outputs": [
    {
     "data": {
      "image/png": "[encoded data removed]",
      "text/plain": [
       "<Figure size 640x480 with 1 Axes>"
      ]
     },
     "metadata": {},
     "output_type": "display_data"
    }
   ],
   "source": [
    "merge_data['days_of_week'].value_counts().plot(kind='bar', color='green')\n",
    "plt.title(\"Number of Appointments by Days\")\n",
    "plt.xlabel(\"Days\")\n",
    "plt.ylabel(\"Count\")\n",
    "plt.show()\n"
   ]
  },
  {
   "cell_type": "code",
   "execution_count": 21,
   "id": "c84ee3cf",
   "metadata": {
    "execution": {
     "iopub.execute_input": "2025-07-10T14:39:27.482897Z",
     "iopub.status.busy": "2025-07-10T14:39:27.482028Z",
     "iopub.status.idle": "2025-07-10T14:39:27.628130Z",
     "shell.execute_reply": "2025-07-10T14:39:27.626905Z"
    },
    "papermill": {
     "duration": 0.157326,
     "end_time": "2025-07-10T14:39:27.629828",
     "exception": false,
     "start_time": "2025-07-10T14:39:27.472502",
     "status": "completed"
    },
    "tags": []
   },
   "outputs": [
    {
     "data": {
      "image/png": "[encoded data removed]",
      "text/plain": [
       "<Figure size 640x480 with 1 Axes>"
      ]
     },
     "metadata": {},
     "output_type": "display_data"
    }
   ],
   "source": [
    "merge_data['year'].value_counts().plot(kind='bar', color='orange')\n",
    "plt.title(\"Number of Appointments by year\")\n",
    "plt.xlabel(\"Days\")\n",
    "plt.ylabel(\"Count\")\n",
    "plt.show()\n"
   ]
  },
  {
   "cell_type": "code",
   "execution_count": 22,
   "id": "54c1aeca",
   "metadata": {
    "execution": {
     "iopub.execute_input": "2025-07-10T14:39:27.648882Z",
     "iopub.status.busy": "2025-07-10T14:39:27.648592Z",
     "iopub.status.idle": "2025-07-10T14:39:27.822682Z",
     "shell.execute_reply": "2025-07-10T14:39:27.821343Z"
    },
    "papermill": {
     "duration": 0.185975,
     "end_time": "2025-07-10T14:39:27.824686",
     "exception": false,
     "start_time": "2025-07-10T14:39:27.638711",
     "status": "completed"
    },
    "tags": []
   },
   "outputs": [
    {
     "data": {
      "image/png": "[encoded data removed]",
      "text/plain": [
       "<Figure size 640x480 with 1 Axes>"
      ]
     },
     "metadata": {},
     "output_type": "display_data"
    }
   ],
   "source": [
    "merge_data['is_weekend'].value_counts().plot(kind='bar', color='red')\n",
    "plt.title(\"Number of Appointments by weekend\")\n",
    "plt.xlabel(\"Days\")\n",
    "plt.ylabel(\"Count\")\n",
    "plt.show()\n"
   ]
  },
  {
   "cell_type": "code",
   "execution_count": 23,
   "id": "87c22f56",
   "metadata": {
    "execution": {
     "iopub.execute_input": "2025-07-10T14:39:27.845748Z",
     "iopub.status.busy": "2025-07-10T14:39:27.845403Z",
     "iopub.status.idle": "2025-07-10T14:39:28.021141Z",
     "shell.execute_reply": "2025-07-10T14:39:28.020062Z"
    },
    "papermill": {
     "duration": 0.18813,
     "end_time": "2025-07-10T14:39:28.022686",
     "exception": false,
     "start_time": "2025-07-10T14:39:27.834556",
     "status": "completed"
    },
    "tags": []
   },
   "outputs": [
    {
     "data": {
      "image/png": "[encoded data removed]",
      "text/plain": [
       "<Figure size 640x480 with 1 Axes>"
      ]
     },
     "metadata": {},
     "output_type": "display_data"
    }
   ],
   "source": [
    "merge_data['treatment_type'].value_counts().plot(kind='bar', color='grey')\n",
    "plt.title(\"Number of Appointments based on treatments\")\n",
    "plt.xlabel(\"treatment type\")\n",
    "plt.ylabel(\"Count\")\n",
    "plt.show()\n"
   ]
  },
  {
   "cell_type": "code",
   "execution_count": 24,
   "id": "469dab9a",
   "metadata": {
    "execution": {
     "iopub.execute_input": "2025-07-10T14:39:28.043954Z",
     "iopub.status.busy": "2025-07-10T14:39:28.043578Z",
     "iopub.status.idle": "2025-07-10T14:39:28.155535Z",
     "shell.execute_reply": "2025-07-10T14:39:28.154339Z"
    },
    "papermill": {
     "duration": 0.124812,
     "end_time": "2025-07-10T14:39:28.157543",
     "exception": false,
     "start_time": "2025-07-10T14:39:28.032731",
     "status": "completed"
    },
    "tags": []
   },
   "outputs": [
    {
     "data": {
      "image/png": "[encoded data removed]",
      "text/plain": [
       "<Figure size 640x480 with 1 Axes>"
      ]
     },
     "metadata": {},
     "output_type": "display_data"
    }
   ],
   "source": [
    "merge_data['gender_x'].value_counts().plot(kind='pie',colors=['blue','grey'],autopct='%1.1f%%')\n",
    "plt.title('Gender Distribution')\n",
    "plt.show()"
   ]
  },
  {
   "cell_type": "code",
   "execution_count": 25,
   "id": "64d6d096",
   "metadata": {
    "execution": {
     "iopub.execute_input": "2025-07-10T14:39:28.248863Z",
     "iopub.status.busy": "2025-07-10T14:39:28.248488Z",
     "iopub.status.idle": "2025-07-10T14:39:28.406776Z",
     "shell.execute_reply": "2025-07-10T14:39:28.405852Z"
    },
    "papermill": {
     "duration": 0.171846,
     "end_time": "2025-07-10T14:39:28.408648",
     "exception": false,
     "start_time": "2025-07-10T14:39:28.236802",
     "status": "completed"
    },
    "tags": []
   },
   "outputs": [
    {
     "data": {
      "image/png": "[encoded data removed]",
      "text/plain": [
       "<Figure size 640x480 with 1 Axes>"
      ]
     },
     "metadata": {},
     "output_type": "display_data"
    }
   ],
   "source": [
    "merge_data['specialization'].value_counts().plot(kind='bar',color=['purple'])\n",
    "plt.title('Doctor Specialization')\n",
    "plt.xlabel('Specialization')\n",
    "plt.ylabel('count')\n",
    "plt.show()"
   ]
  },
  {
   "cell_type": "code",
   "execution_count": 26,
   "id": "9fe7418d",
   "metadata": {
    "execution": {
     "iopub.execute_input": "2025-07-10T14:39:28.432243Z",
     "iopub.status.busy": "2025-07-10T14:39:28.431853Z",
     "iopub.status.idle": "2025-07-10T14:39:28.622386Z",
     "shell.execute_reply": "2025-07-10T14:39:28.621183Z"
    },
    "papermill": {
     "duration": 0.204241,
     "end_time": "2025-07-10T14:39:28.624069",
     "exception": false,
     "start_time": "2025-07-10T14:39:28.419828",
     "status": "completed"
    },
    "tags": []
   },
   "outputs": [
    {
     "data": {
      "image/png": "[encoded data removed]",
      "text/plain": [
       "<Figure size 640x480 with 1 Axes>"
      ]
     },
     "metadata": {},
     "output_type": "display_data"
    }
   ],
   "source": [
    "merge_data['years_experience'].value_counts().plot(kind='bar',color=['skyblue'])\n",
    "plt.title('year of Experience')\n",
    "plt.xlabel('Specialization')\n",
    "plt.ylabel('count')\n",
    "plt.show()"
   ]
  },
  {
   "cell_type": "code",
   "execution_count": 27,
   "id": "349a3cbd",
   "metadata": {
    "execution": {
     "iopub.execute_input": "2025-07-10T14:39:28.648032Z",
     "iopub.status.busy": "2025-07-10T14:39:28.647664Z",
     "iopub.status.idle": "2025-07-10T14:39:28.823680Z",
     "shell.execute_reply": "2025-07-10T14:39:28.822566Z"
    },
    "papermill": {
     "duration": 0.190058,
     "end_time": "2025-07-10T14:39:28.825407",
     "exception": false,
     "start_time": "2025-07-10T14:39:28.635349",
     "status": "completed"
    },
    "tags": []
   },
   "outputs": [
    {
     "data": {
      "image/png": "[encoded data removed]",
      "text/plain": [
       "<Figure size 640x480 with 1 Axes>"
      ]
     },
     "metadata": {},
     "output_type": "display_data"
    }
   ],
   "source": [
    "'hospital_branch'\n",
    "merge_data['hospital_branch'].value_counts().plot(kind='bar',color=['black'])\n",
    "plt.title('Hospital Branch')\n",
    "plt.xlabel('Specialization')\n",
    "plt.ylabel('count')\n",
    "plt.show()"
   ]
  },
  {
   "cell_type": "code",
   "execution_count": 28,
   "id": "ab15a999",
   "metadata": {
    "execution": {
     "iopub.execute_input": "2025-07-10T14:39:28.850290Z",
     "iopub.status.busy": "2025-07-10T14:39:28.849918Z",
     "iopub.status.idle": "2025-07-10T14:39:29.017674Z",
     "shell.execute_reply": "2025-07-10T14:39:29.016563Z"
    },
    "papermill": {
     "duration": 0.182287,
     "end_time": "2025-07-10T14:39:29.019342",
     "exception": false,
     "start_time": "2025-07-10T14:39:28.837055",
     "status": "completed"
    },
    "tags": []
   },
   "outputs": [
    {
     "data": {
      "image/png": "[encoded data removed]",
      "text/plain": [
       "<Figure size 640x480 with 1 Axes>"
      ]
     },
     "metadata": {},
     "output_type": "display_data"
    }
   ],
   "source": [
    "merge_data['insurance_provider_x'].value_counts().plot(kind='bar',color=['Pink'])\n",
    "plt.title('Insurance Agents')\n",
    "plt.xlabel('Insurance Provided')\n",
    "plt.ylabel('count')\n",
    "plt.show()"
   ]
  },
  {
   "cell_type": "code",
   "execution_count": 29,
   "id": "02a552ca",
   "metadata": {
    "execution": {
     "iopub.execute_input": "2025-07-10T14:39:29.046045Z",
     "iopub.status.busy": "2025-07-10T14:39:29.045655Z",
     "iopub.status.idle": "2025-07-10T14:39:29.217960Z",
     "shell.execute_reply": "2025-07-10T14:39:29.217148Z"
    },
    "papermill": {
     "duration": 0.187854,
     "end_time": "2025-07-10T14:39:29.219585",
     "exception": false,
     "start_time": "2025-07-10T14:39:29.031731",
     "status": "completed"
    },
    "tags": []
   },
   "outputs": [
    {
     "data": {
      "image/png": "[encoded data removed]",
      "text/plain": [
       "<Figure size 640x480 with 1 Axes>"
      ]
     },
     "metadata": {},
     "output_type": "display_data"
    }
   ],
   "source": [
    "merge_data['reason_for_visit'].value_counts().plot(kind='bar',color=['brown'])\n",
    "plt.title('Visiting reason')\n",
    "plt.xlabel('reason')\n",
    "plt.ylabel('count')\n",
    "plt.show()"
   ]
  },
  {
   "cell_type": "markdown",
   "id": "61619d86",
   "metadata": {
    "papermill": {
     "duration": 0.012186,
     "end_time": "2025-07-10T14:39:29.244499",
     "exception": false,
     "start_time": "2025-07-10T14:39:29.232313",
     "status": "completed"
    },
    "tags": []
   },
   "source": [
    "# Predictions"
   ]
  },
  {
   "cell_type": "code",
   "execution_count": 30,
   "id": "18bd4937",
   "metadata": {
    "execution": {
     "iopub.execute_input": "2025-07-10T14:39:29.271593Z",
     "iopub.status.busy": "2025-07-10T14:39:29.270647Z",
     "iopub.status.idle": "2025-07-10T14:39:29.725492Z",
     "shell.execute_reply": "2025-07-10T14:39:29.724194Z"
    },
    "papermill": {
     "duration": 0.470337,
     "end_time": "2025-07-10T14:39:29.727331",
     "exception": false,
     "start_time": "2025-07-10T14:39:29.256994",
     "status": "completed"
    },
    "tags": []
   },
   "outputs": [],
   "source": [
    "from sklearn.model_selection import train_test_split\n",
    "from sklearn.linear_model import LogisticRegression\n",
    "from sklearn.metrics import accuracy_score,classification_report,confusion_matrix"
   ]
  },
  {
   "cell_type": "code",
   "execution_count": 31,
   "id": "e31db67f",
   "metadata": {
    "execution": {
     "iopub.execute_input": "2025-07-10T14:39:29.754795Z",
     "iopub.status.busy": "2025-07-10T14:39:29.754477Z",
     "iopub.status.idle": "2025-07-10T14:39:29.771537Z",
     "shell.execute_reply": "2025-07-10T14:39:29.770452Z"
    },
    "papermill": {
     "duration": 0.033617,
     "end_time": "2025-07-10T14:39:29.773656",
     "exception": false,
     "start_time": "2025-07-10T14:39:29.740039",
     "status": "completed"
    },
    "tags": []
   },
   "outputs": [],
   "source": [
    "merge_data['status'] = merge_data['status'].str.strip().str.lower()\n",
    "\n",
    "#Example: Create a binary target column (1 = showed up, 0 = no-show)\n",
    "merge_data['no_show']=merge_data['status'].apply(lambda x:1 if x=='Showed up'else 0)\n",
    "\n",
    "# Drop irrelevant or text columns\n",
    "x=merge_data[['days_of_week','is_weekend','cost']]\n",
    "y=merge_data['no_show']\n",
    "\n",
    "#spiltdata\n",
    "x_train,x_test,y_train,y_test=train_test_split(x,y,test_size=0.2,random_state=42,stratify=y)\n",
    "\n",
    "#Train the Model\n",
    "model=LogisticRegression()\n",
    "#model.fit(x_train,y_train)\n",
    "\n",
    "#Make Predictions & Evaluvate\n",
    "#y_pred=model.predict(x_test)\n",
    "\n",
    "#Evaluvate & Print Reasults\n",
    "#print('Accurancy:',accuracy_score(y_test,y_pred))\n",
    "#print(\"confusion matrix:\",confusion_matrix(y_test,y_pred))\n",
    "#print('classification Report:',classification_report(y_test,y_pred))\n",
    "#print(merge_data['no_show'].value_counts())"
   ]
  }
 ],
 "metadata": {
  "kaggle": {
   "accelerator": "none",
   "dataSources": [
    {
     "datasetId": 7554455,
     "sourceId": 12008175,
     "sourceType": "datasetVersion"
    }
   ],
   "dockerImageVersionId": 31089,
   "isGpuEnabled": false,
   "isInternetEnabled": true,
   "language": "python",
   "sourceType": "notebook"
  },
  "kernelspec": {
   "display_name": "Python 3",
   "language": "python",
   "name": "python3"
  },
  "language_info": {
   "codemirror_mode": {
    "name": "ipython",
    "version": 3
   },
   "file_extension": ".py",
   "mimetype": "text/x-python",
   "name": "python",
   "nbconvert_exporter": "python",
   "pygments_lexer": "ipython3",
   "version": "3.11.13"
  },
  "papermill": {
   "default_parameters": {},
   "duration": 15.367944,
   "end_time": "2025-07-10T14:39:30.609658",
   "environment_variables": {},
   "exception": null,
   "input_path": "__notebook__.ipynb",
   "output_path": "__notebook__.ipynb",
   "parameters": {},
   "start_time": "2025-07-10T14:39:15.241714",
   "version": "2.6.0"
  }
 },
 "nbformat": 4,
 "nbformat_minor": 5
}
